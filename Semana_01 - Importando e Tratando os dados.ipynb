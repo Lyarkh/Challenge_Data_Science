{
 "cells": [
  {
   "cell_type": "markdown",
   "id": "72b742df",
   "metadata": {},
   "source": [
    "# <font color=green> Challenge Data Science - Alura Voz\n",
    "---\n",
    "\n",
    "## <font color=blue> Importando bibliotecas necessárias e setando configurações iniciais"
   ]
  },
  {
   "cell_type": "code",
   "execution_count": 670,
   "id": "cc09b4d2",
   "metadata": {},
   "outputs": [],
   "source": [
    "import pandas as pd\n",
    "\n",
    "# Configurações do pandas para melhor vizualização dos dados\n",
    "pd.set_option(\"display.max_columns\", 1000)\n",
    "pd.set_option(\"display.max_rows\", 70)\n",
    "pd.set_option('display.max_colwidth', None)"
   ]
  },
  {
   "cell_type": "markdown",
   "id": "d4ba6b97",
   "metadata": {},
   "source": [
    "## <font color=blue> Importando base de dados\n",
    "    \n",
    "link: https://raw.githubusercontent.com/sthemonica/alura-voz/main/Dados/Telco-Customer-Churn.json"
   ]
  },
  {
   "cell_type": "code",
   "execution_count": 671,
   "id": "4b68a4b7",
   "metadata": {},
   "outputs": [],
   "source": [
    "dados = pd.read_json(\n",
    "    path_or_buf = 'https://raw.githubusercontent.com/sthemonica/alura-voz/main/Dados/Telco-Customer-Churn.json',\n",
    "    orient = 'columns'\n",
    ")"
   ]
  },
  {
   "cell_type": "code",
   "execution_count": 672,
   "id": "ad139140",
   "metadata": {},
   "outputs": [
    {
     "data": {
      "text/html": [
       "<div>\n",
       "<style scoped>\n",
       "    .dataframe tbody tr th:only-of-type {\n",
       "        vertical-align: middle;\n",
       "    }\n",
       "\n",
       "    .dataframe tbody tr th {\n",
       "        vertical-align: top;\n",
       "    }\n",
       "\n",
       "    .dataframe thead th {\n",
       "        text-align: right;\n",
       "    }\n",
       "</style>\n",
       "<table border=\"1\" class=\"dataframe\">\n",
       "  <thead>\n",
       "    <tr style=\"text-align: right;\">\n",
       "      <th></th>\n",
       "      <th>customerID</th>\n",
       "      <th>Churn</th>\n",
       "      <th>customer</th>\n",
       "      <th>phone</th>\n",
       "      <th>internet</th>\n",
       "      <th>account</th>\n",
       "    </tr>\n",
       "  </thead>\n",
       "  <tbody>\n",
       "    <tr>\n",
       "      <th>0</th>\n",
       "      <td>0002-ORFBO</td>\n",
       "      <td>No</td>\n",
       "      <td>{'gender': 'Female', 'SeniorCitizen': 0, 'Partner': 'Yes', 'Dependents': 'Yes', 'tenure': 9}</td>\n",
       "      <td>{'PhoneService': 'Yes', 'MultipleLines': 'No'}</td>\n",
       "      <td>{'InternetService': 'DSL', 'OnlineSecurity': 'No', 'OnlineBackup': 'Yes', 'DeviceProtection': 'No', 'TechSupport': 'Yes', 'StreamingTV': 'Yes', 'StreamingMovies': 'No'}</td>\n",
       "      <td>{'Contract': 'One year', 'PaperlessBilling': 'Yes', 'PaymentMethod': 'Mailed check', 'Charges': {'Monthly': 65.6, 'Total': '593.3'}}</td>\n",
       "    </tr>\n",
       "    <tr>\n",
       "      <th>1</th>\n",
       "      <td>0003-MKNFE</td>\n",
       "      <td>No</td>\n",
       "      <td>{'gender': 'Male', 'SeniorCitizen': 0, 'Partner': 'No', 'Dependents': 'No', 'tenure': 9}</td>\n",
       "      <td>{'PhoneService': 'Yes', 'MultipleLines': 'Yes'}</td>\n",
       "      <td>{'InternetService': 'DSL', 'OnlineSecurity': 'No', 'OnlineBackup': 'No', 'DeviceProtection': 'No', 'TechSupport': 'No', 'StreamingTV': 'No', 'StreamingMovies': 'Yes'}</td>\n",
       "      <td>{'Contract': 'Month-to-month', 'PaperlessBilling': 'No', 'PaymentMethod': 'Mailed check', 'Charges': {'Monthly': 59.9, 'Total': '542.4'}}</td>\n",
       "    </tr>\n",
       "    <tr>\n",
       "      <th>2</th>\n",
       "      <td>0004-TLHLJ</td>\n",
       "      <td>Yes</td>\n",
       "      <td>{'gender': 'Male', 'SeniorCitizen': 0, 'Partner': 'No', 'Dependents': 'No', 'tenure': 4}</td>\n",
       "      <td>{'PhoneService': 'Yes', 'MultipleLines': 'No'}</td>\n",
       "      <td>{'InternetService': 'Fiber optic', 'OnlineSecurity': 'No', 'OnlineBackup': 'No', 'DeviceProtection': 'Yes', 'TechSupport': 'No', 'StreamingTV': 'No', 'StreamingMovies': 'No'}</td>\n",
       "      <td>{'Contract': 'Month-to-month', 'PaperlessBilling': 'Yes', 'PaymentMethod': 'Electronic check', 'Charges': {'Monthly': 73.9, 'Total': '280.85'}}</td>\n",
       "    </tr>\n",
       "    <tr>\n",
       "      <th>3</th>\n",
       "      <td>0011-IGKFF</td>\n",
       "      <td>Yes</td>\n",
       "      <td>{'gender': 'Male', 'SeniorCitizen': 1, 'Partner': 'Yes', 'Dependents': 'No', 'tenure': 13}</td>\n",
       "      <td>{'PhoneService': 'Yes', 'MultipleLines': 'No'}</td>\n",
       "      <td>{'InternetService': 'Fiber optic', 'OnlineSecurity': 'No', 'OnlineBackup': 'Yes', 'DeviceProtection': 'Yes', 'TechSupport': 'No', 'StreamingTV': 'Yes', 'StreamingMovies': 'Yes'}</td>\n",
       "      <td>{'Contract': 'Month-to-month', 'PaperlessBilling': 'Yes', 'PaymentMethod': 'Electronic check', 'Charges': {'Monthly': 98.0, 'Total': '1237.85'}}</td>\n",
       "    </tr>\n",
       "    <tr>\n",
       "      <th>4</th>\n",
       "      <td>0013-EXCHZ</td>\n",
       "      <td>Yes</td>\n",
       "      <td>{'gender': 'Female', 'SeniorCitizen': 1, 'Partner': 'Yes', 'Dependents': 'No', 'tenure': 3}</td>\n",
       "      <td>{'PhoneService': 'Yes', 'MultipleLines': 'No'}</td>\n",
       "      <td>{'InternetService': 'Fiber optic', 'OnlineSecurity': 'No', 'OnlineBackup': 'No', 'DeviceProtection': 'No', 'TechSupport': 'Yes', 'StreamingTV': 'Yes', 'StreamingMovies': 'No'}</td>\n",
       "      <td>{'Contract': 'Month-to-month', 'PaperlessBilling': 'Yes', 'PaymentMethod': 'Mailed check', 'Charges': {'Monthly': 83.9, 'Total': '267.4'}}</td>\n",
       "    </tr>\n",
       "    <tr>\n",
       "      <th>5</th>\n",
       "      <td>0013-MHZWF</td>\n",
       "      <td>No</td>\n",
       "      <td>{'gender': 'Female', 'SeniorCitizen': 0, 'Partner': 'No', 'Dependents': 'Yes', 'tenure': 9}</td>\n",
       "      <td>{'PhoneService': 'Yes', 'MultipleLines': 'No'}</td>\n",
       "      <td>{'InternetService': 'DSL', 'OnlineSecurity': 'No', 'OnlineBackup': 'No', 'DeviceProtection': 'No', 'TechSupport': 'Yes', 'StreamingTV': 'Yes', 'StreamingMovies': 'Yes'}</td>\n",
       "      <td>{'Contract': 'Month-to-month', 'PaperlessBilling': 'Yes', 'PaymentMethod': 'Credit card (automatic)', 'Charges': {'Monthly': 69.4, 'Total': '571.45'}}</td>\n",
       "    </tr>\n",
       "    <tr>\n",
       "      <th>6</th>\n",
       "      <td>0013-SMEOE</td>\n",
       "      <td>No</td>\n",
       "      <td>{'gender': 'Female', 'SeniorCitizen': 1, 'Partner': 'Yes', 'Dependents': 'No', 'tenure': 71}</td>\n",
       "      <td>{'PhoneService': 'Yes', 'MultipleLines': 'No'}</td>\n",
       "      <td>{'InternetService': 'Fiber optic', 'OnlineSecurity': 'Yes', 'OnlineBackup': 'Yes', 'DeviceProtection': 'Yes', 'TechSupport': 'Yes', 'StreamingTV': 'Yes', 'StreamingMovies': 'Yes'}</td>\n",
       "      <td>{'Contract': 'Two year', 'PaperlessBilling': 'Yes', 'PaymentMethod': 'Bank transfer (automatic)', 'Charges': {'Monthly': 109.7, 'Total': '7904.25'}}</td>\n",
       "    </tr>\n",
       "    <tr>\n",
       "      <th>7</th>\n",
       "      <td>0014-BMAQU</td>\n",
       "      <td>No</td>\n",
       "      <td>{'gender': 'Male', 'SeniorCitizen': 0, 'Partner': 'Yes', 'Dependents': 'No', 'tenure': 63}</td>\n",
       "      <td>{'PhoneService': 'Yes', 'MultipleLines': 'Yes'}</td>\n",
       "      <td>{'InternetService': 'Fiber optic', 'OnlineSecurity': 'Yes', 'OnlineBackup': 'No', 'DeviceProtection': 'No', 'TechSupport': 'Yes', 'StreamingTV': 'No', 'StreamingMovies': 'No'}</td>\n",
       "      <td>{'Contract': 'Two year', 'PaperlessBilling': 'Yes', 'PaymentMethod': 'Credit card (automatic)', 'Charges': {'Monthly': 84.65, 'Total': '5377.8'}}</td>\n",
       "    </tr>\n",
       "    <tr>\n",
       "      <th>8</th>\n",
       "      <td>0015-UOCOJ</td>\n",
       "      <td>No</td>\n",
       "      <td>{'gender': 'Female', 'SeniorCitizen': 1, 'Partner': 'No', 'Dependents': 'No', 'tenure': 7}</td>\n",
       "      <td>{'PhoneService': 'Yes', 'MultipleLines': 'No'}</td>\n",
       "      <td>{'InternetService': 'DSL', 'OnlineSecurity': 'Yes', 'OnlineBackup': 'No', 'DeviceProtection': 'No', 'TechSupport': 'No', 'StreamingTV': 'No', 'StreamingMovies': 'No'}</td>\n",
       "      <td>{'Contract': 'Month-to-month', 'PaperlessBilling': 'Yes', 'PaymentMethod': 'Electronic check', 'Charges': {'Monthly': 48.2, 'Total': '340.35'}}</td>\n",
       "    </tr>\n",
       "    <tr>\n",
       "      <th>9</th>\n",
       "      <td>0016-QLJIS</td>\n",
       "      <td>No</td>\n",
       "      <td>{'gender': 'Female', 'SeniorCitizen': 0, 'Partner': 'Yes', 'Dependents': 'Yes', 'tenure': 65}</td>\n",
       "      <td>{'PhoneService': 'Yes', 'MultipleLines': 'Yes'}</td>\n",
       "      <td>{'InternetService': 'DSL', 'OnlineSecurity': 'Yes', 'OnlineBackup': 'Yes', 'DeviceProtection': 'Yes', 'TechSupport': 'Yes', 'StreamingTV': 'Yes', 'StreamingMovies': 'Yes'}</td>\n",
       "      <td>{'Contract': 'Two year', 'PaperlessBilling': 'Yes', 'PaymentMethod': 'Mailed check', 'Charges': {'Monthly': 90.45, 'Total': '5957.9'}}</td>\n",
       "    </tr>\n",
       "  </tbody>\n",
       "</table>\n",
       "</div>"
      ],
      "text/plain": [
       "   customerID Churn  \\\n",
       "0  0002-ORFBO    No   \n",
       "1  0003-MKNFE    No   \n",
       "2  0004-TLHLJ   Yes   \n",
       "3  0011-IGKFF   Yes   \n",
       "4  0013-EXCHZ   Yes   \n",
       "5  0013-MHZWF    No   \n",
       "6  0013-SMEOE    No   \n",
       "7  0014-BMAQU    No   \n",
       "8  0015-UOCOJ    No   \n",
       "9  0016-QLJIS    No   \n",
       "\n",
       "                                                                                        customer  \\\n",
       "0   {'gender': 'Female', 'SeniorCitizen': 0, 'Partner': 'Yes', 'Dependents': 'Yes', 'tenure': 9}   \n",
       "1       {'gender': 'Male', 'SeniorCitizen': 0, 'Partner': 'No', 'Dependents': 'No', 'tenure': 9}   \n",
       "2       {'gender': 'Male', 'SeniorCitizen': 0, 'Partner': 'No', 'Dependents': 'No', 'tenure': 4}   \n",
       "3     {'gender': 'Male', 'SeniorCitizen': 1, 'Partner': 'Yes', 'Dependents': 'No', 'tenure': 13}   \n",
       "4    {'gender': 'Female', 'SeniorCitizen': 1, 'Partner': 'Yes', 'Dependents': 'No', 'tenure': 3}   \n",
       "5    {'gender': 'Female', 'SeniorCitizen': 0, 'Partner': 'No', 'Dependents': 'Yes', 'tenure': 9}   \n",
       "6   {'gender': 'Female', 'SeniorCitizen': 1, 'Partner': 'Yes', 'Dependents': 'No', 'tenure': 71}   \n",
       "7     {'gender': 'Male', 'SeniorCitizen': 0, 'Partner': 'Yes', 'Dependents': 'No', 'tenure': 63}   \n",
       "8     {'gender': 'Female', 'SeniorCitizen': 1, 'Partner': 'No', 'Dependents': 'No', 'tenure': 7}   \n",
       "9  {'gender': 'Female', 'SeniorCitizen': 0, 'Partner': 'Yes', 'Dependents': 'Yes', 'tenure': 65}   \n",
       "\n",
       "                                             phone  \\\n",
       "0   {'PhoneService': 'Yes', 'MultipleLines': 'No'}   \n",
       "1  {'PhoneService': 'Yes', 'MultipleLines': 'Yes'}   \n",
       "2   {'PhoneService': 'Yes', 'MultipleLines': 'No'}   \n",
       "3   {'PhoneService': 'Yes', 'MultipleLines': 'No'}   \n",
       "4   {'PhoneService': 'Yes', 'MultipleLines': 'No'}   \n",
       "5   {'PhoneService': 'Yes', 'MultipleLines': 'No'}   \n",
       "6   {'PhoneService': 'Yes', 'MultipleLines': 'No'}   \n",
       "7  {'PhoneService': 'Yes', 'MultipleLines': 'Yes'}   \n",
       "8   {'PhoneService': 'Yes', 'MultipleLines': 'No'}   \n",
       "9  {'PhoneService': 'Yes', 'MultipleLines': 'Yes'}   \n",
       "\n",
       "                                                                                                                                                                              internet  \\\n",
       "0             {'InternetService': 'DSL', 'OnlineSecurity': 'No', 'OnlineBackup': 'Yes', 'DeviceProtection': 'No', 'TechSupport': 'Yes', 'StreamingTV': 'Yes', 'StreamingMovies': 'No'}   \n",
       "1               {'InternetService': 'DSL', 'OnlineSecurity': 'No', 'OnlineBackup': 'No', 'DeviceProtection': 'No', 'TechSupport': 'No', 'StreamingTV': 'No', 'StreamingMovies': 'Yes'}   \n",
       "2       {'InternetService': 'Fiber optic', 'OnlineSecurity': 'No', 'OnlineBackup': 'No', 'DeviceProtection': 'Yes', 'TechSupport': 'No', 'StreamingTV': 'No', 'StreamingMovies': 'No'}   \n",
       "3    {'InternetService': 'Fiber optic', 'OnlineSecurity': 'No', 'OnlineBackup': 'Yes', 'DeviceProtection': 'Yes', 'TechSupport': 'No', 'StreamingTV': 'Yes', 'StreamingMovies': 'Yes'}   \n",
       "4      {'InternetService': 'Fiber optic', 'OnlineSecurity': 'No', 'OnlineBackup': 'No', 'DeviceProtection': 'No', 'TechSupport': 'Yes', 'StreamingTV': 'Yes', 'StreamingMovies': 'No'}   \n",
       "5             {'InternetService': 'DSL', 'OnlineSecurity': 'No', 'OnlineBackup': 'No', 'DeviceProtection': 'No', 'TechSupport': 'Yes', 'StreamingTV': 'Yes', 'StreamingMovies': 'Yes'}   \n",
       "6  {'InternetService': 'Fiber optic', 'OnlineSecurity': 'Yes', 'OnlineBackup': 'Yes', 'DeviceProtection': 'Yes', 'TechSupport': 'Yes', 'StreamingTV': 'Yes', 'StreamingMovies': 'Yes'}   \n",
       "7      {'InternetService': 'Fiber optic', 'OnlineSecurity': 'Yes', 'OnlineBackup': 'No', 'DeviceProtection': 'No', 'TechSupport': 'Yes', 'StreamingTV': 'No', 'StreamingMovies': 'No'}   \n",
       "8               {'InternetService': 'DSL', 'OnlineSecurity': 'Yes', 'OnlineBackup': 'No', 'DeviceProtection': 'No', 'TechSupport': 'No', 'StreamingTV': 'No', 'StreamingMovies': 'No'}   \n",
       "9          {'InternetService': 'DSL', 'OnlineSecurity': 'Yes', 'OnlineBackup': 'Yes', 'DeviceProtection': 'Yes', 'TechSupport': 'Yes', 'StreamingTV': 'Yes', 'StreamingMovies': 'Yes'}   \n",
       "\n",
       "                                                                                                                                                  account  \n",
       "0                    {'Contract': 'One year', 'PaperlessBilling': 'Yes', 'PaymentMethod': 'Mailed check', 'Charges': {'Monthly': 65.6, 'Total': '593.3'}}  \n",
       "1               {'Contract': 'Month-to-month', 'PaperlessBilling': 'No', 'PaymentMethod': 'Mailed check', 'Charges': {'Monthly': 59.9, 'Total': '542.4'}}  \n",
       "2         {'Contract': 'Month-to-month', 'PaperlessBilling': 'Yes', 'PaymentMethod': 'Electronic check', 'Charges': {'Monthly': 73.9, 'Total': '280.85'}}  \n",
       "3        {'Contract': 'Month-to-month', 'PaperlessBilling': 'Yes', 'PaymentMethod': 'Electronic check', 'Charges': {'Monthly': 98.0, 'Total': '1237.85'}}  \n",
       "4              {'Contract': 'Month-to-month', 'PaperlessBilling': 'Yes', 'PaymentMethod': 'Mailed check', 'Charges': {'Monthly': 83.9, 'Total': '267.4'}}  \n",
       "5  {'Contract': 'Month-to-month', 'PaperlessBilling': 'Yes', 'PaymentMethod': 'Credit card (automatic)', 'Charges': {'Monthly': 69.4, 'Total': '571.45'}}  \n",
       "6    {'Contract': 'Two year', 'PaperlessBilling': 'Yes', 'PaymentMethod': 'Bank transfer (automatic)', 'Charges': {'Monthly': 109.7, 'Total': '7904.25'}}  \n",
       "7       {'Contract': 'Two year', 'PaperlessBilling': 'Yes', 'PaymentMethod': 'Credit card (automatic)', 'Charges': {'Monthly': 84.65, 'Total': '5377.8'}}  \n",
       "8         {'Contract': 'Month-to-month', 'PaperlessBilling': 'Yes', 'PaymentMethod': 'Electronic check', 'Charges': {'Monthly': 48.2, 'Total': '340.35'}}  \n",
       "9                  {'Contract': 'Two year', 'PaperlessBilling': 'Yes', 'PaymentMethod': 'Mailed check', 'Charges': {'Monthly': 90.45, 'Total': '5957.9'}}  "
      ]
     },
     "execution_count": 672,
     "metadata": {},
     "output_type": "execute_result"
    }
   ],
   "source": [
    "dados.head(10)\n"
   ]
  },
  {
   "cell_type": "markdown",
   "id": "29fccb9c",
   "metadata": {},
   "source": [
    "---\n",
    "> ### <font color=red> Observações \n",
    "> - Tirando as colunas `customerID` e `Churn`, todas contém dicionários.\n",
    "> - Portanto é nencessário extrair a informação de cada coluna."
   ]
  },
  {
   "cell_type": "markdown",
   "id": "5264dd53",
   "metadata": {},
   "source": [
    "### <font color=blue> Filtrando as colunas para extração das informações"
   ]
  },
  {
   "cell_type": "code",
   "execution_count": 673,
   "id": "54f306c7",
   "metadata": {},
   "outputs": [],
   "source": [
    "df_colunas_extraidas = dados.drop(['customerID', 'Churn'], axis=1)\n",
    "colunas = df_colunas_extraidas.columns"
   ]
  },
  {
   "cell_type": "code",
   "execution_count": 674,
   "id": "56100d51",
   "metadata": {},
   "outputs": [
    {
     "data": {
      "text/plain": [
       "Index(['customer', 'phone', 'internet', 'account'], dtype='object')"
      ]
     },
     "execution_count": 674,
     "metadata": {},
     "output_type": "execute_result"
    }
   ],
   "source": [
    "colunas"
   ]
  },
  {
   "cell_type": "markdown",
   "id": "e5d6ccde",
   "metadata": {},
   "source": [
    "### <font color=blue> Normalizando e criando novo dataset"
   ]
  },
  {
   "cell_type": "code",
   "execution_count": 675,
   "id": "bfbcc879",
   "metadata": {},
   "outputs": [],
   "source": [
    "dados = dados[['customerID', 'Churn']]\n",
    "\n",
    "for coluna in df_colunas_extraidas:\n",
    "    coluna_normalizada = pd.json_normalize(df_colunas_extraidas[coluna])\n",
    "    dados = pd.concat([dados, coluna_normalizada], axis=1)   "
   ]
  },
  {
   "cell_type": "code",
   "execution_count": 676,
   "id": "dea6303f",
   "metadata": {},
   "outputs": [
    {
     "data": {
      "text/html": [
       "<div>\n",
       "<style scoped>\n",
       "    .dataframe tbody tr th:only-of-type {\n",
       "        vertical-align: middle;\n",
       "    }\n",
       "\n",
       "    .dataframe tbody tr th {\n",
       "        vertical-align: top;\n",
       "    }\n",
       "\n",
       "    .dataframe thead th {\n",
       "        text-align: right;\n",
       "    }\n",
       "</style>\n",
       "<table border=\"1\" class=\"dataframe\">\n",
       "  <thead>\n",
       "    <tr style=\"text-align: right;\">\n",
       "      <th></th>\n",
       "      <th>customerID</th>\n",
       "      <th>Churn</th>\n",
       "      <th>gender</th>\n",
       "      <th>SeniorCitizen</th>\n",
       "      <th>Partner</th>\n",
       "      <th>Dependents</th>\n",
       "      <th>tenure</th>\n",
       "      <th>PhoneService</th>\n",
       "      <th>MultipleLines</th>\n",
       "      <th>InternetService</th>\n",
       "      <th>OnlineSecurity</th>\n",
       "      <th>OnlineBackup</th>\n",
       "      <th>DeviceProtection</th>\n",
       "      <th>TechSupport</th>\n",
       "      <th>StreamingTV</th>\n",
       "      <th>StreamingMovies</th>\n",
       "      <th>Contract</th>\n",
       "      <th>PaperlessBilling</th>\n",
       "      <th>PaymentMethod</th>\n",
       "      <th>Charges.Monthly</th>\n",
       "      <th>Charges.Total</th>\n",
       "    </tr>\n",
       "  </thead>\n",
       "  <tbody>\n",
       "    <tr>\n",
       "      <th>0</th>\n",
       "      <td>0002-ORFBO</td>\n",
       "      <td>No</td>\n",
       "      <td>Female</td>\n",
       "      <td>0</td>\n",
       "      <td>Yes</td>\n",
       "      <td>Yes</td>\n",
       "      <td>9</td>\n",
       "      <td>Yes</td>\n",
       "      <td>No</td>\n",
       "      <td>DSL</td>\n",
       "      <td>No</td>\n",
       "      <td>Yes</td>\n",
       "      <td>No</td>\n",
       "      <td>Yes</td>\n",
       "      <td>Yes</td>\n",
       "      <td>No</td>\n",
       "      <td>One year</td>\n",
       "      <td>Yes</td>\n",
       "      <td>Mailed check</td>\n",
       "      <td>65.60</td>\n",
       "      <td>593.3</td>\n",
       "    </tr>\n",
       "    <tr>\n",
       "      <th>1</th>\n",
       "      <td>0003-MKNFE</td>\n",
       "      <td>No</td>\n",
       "      <td>Male</td>\n",
       "      <td>0</td>\n",
       "      <td>No</td>\n",
       "      <td>No</td>\n",
       "      <td>9</td>\n",
       "      <td>Yes</td>\n",
       "      <td>Yes</td>\n",
       "      <td>DSL</td>\n",
       "      <td>No</td>\n",
       "      <td>No</td>\n",
       "      <td>No</td>\n",
       "      <td>No</td>\n",
       "      <td>No</td>\n",
       "      <td>Yes</td>\n",
       "      <td>Month-to-month</td>\n",
       "      <td>No</td>\n",
       "      <td>Mailed check</td>\n",
       "      <td>59.90</td>\n",
       "      <td>542.4</td>\n",
       "    </tr>\n",
       "    <tr>\n",
       "      <th>2</th>\n",
       "      <td>0004-TLHLJ</td>\n",
       "      <td>Yes</td>\n",
       "      <td>Male</td>\n",
       "      <td>0</td>\n",
       "      <td>No</td>\n",
       "      <td>No</td>\n",
       "      <td>4</td>\n",
       "      <td>Yes</td>\n",
       "      <td>No</td>\n",
       "      <td>Fiber optic</td>\n",
       "      <td>No</td>\n",
       "      <td>No</td>\n",
       "      <td>Yes</td>\n",
       "      <td>No</td>\n",
       "      <td>No</td>\n",
       "      <td>No</td>\n",
       "      <td>Month-to-month</td>\n",
       "      <td>Yes</td>\n",
       "      <td>Electronic check</td>\n",
       "      <td>73.90</td>\n",
       "      <td>280.85</td>\n",
       "    </tr>\n",
       "    <tr>\n",
       "      <th>3</th>\n",
       "      <td>0011-IGKFF</td>\n",
       "      <td>Yes</td>\n",
       "      <td>Male</td>\n",
       "      <td>1</td>\n",
       "      <td>Yes</td>\n",
       "      <td>No</td>\n",
       "      <td>13</td>\n",
       "      <td>Yes</td>\n",
       "      <td>No</td>\n",
       "      <td>Fiber optic</td>\n",
       "      <td>No</td>\n",
       "      <td>Yes</td>\n",
       "      <td>Yes</td>\n",
       "      <td>No</td>\n",
       "      <td>Yes</td>\n",
       "      <td>Yes</td>\n",
       "      <td>Month-to-month</td>\n",
       "      <td>Yes</td>\n",
       "      <td>Electronic check</td>\n",
       "      <td>98.00</td>\n",
       "      <td>1237.85</td>\n",
       "    </tr>\n",
       "    <tr>\n",
       "      <th>4</th>\n",
       "      <td>0013-EXCHZ</td>\n",
       "      <td>Yes</td>\n",
       "      <td>Female</td>\n",
       "      <td>1</td>\n",
       "      <td>Yes</td>\n",
       "      <td>No</td>\n",
       "      <td>3</td>\n",
       "      <td>Yes</td>\n",
       "      <td>No</td>\n",
       "      <td>Fiber optic</td>\n",
       "      <td>No</td>\n",
       "      <td>No</td>\n",
       "      <td>No</td>\n",
       "      <td>Yes</td>\n",
       "      <td>Yes</td>\n",
       "      <td>No</td>\n",
       "      <td>Month-to-month</td>\n",
       "      <td>Yes</td>\n",
       "      <td>Mailed check</td>\n",
       "      <td>83.90</td>\n",
       "      <td>267.4</td>\n",
       "    </tr>\n",
       "    <tr>\n",
       "      <th>5</th>\n",
       "      <td>0013-MHZWF</td>\n",
       "      <td>No</td>\n",
       "      <td>Female</td>\n",
       "      <td>0</td>\n",
       "      <td>No</td>\n",
       "      <td>Yes</td>\n",
       "      <td>9</td>\n",
       "      <td>Yes</td>\n",
       "      <td>No</td>\n",
       "      <td>DSL</td>\n",
       "      <td>No</td>\n",
       "      <td>No</td>\n",
       "      <td>No</td>\n",
       "      <td>Yes</td>\n",
       "      <td>Yes</td>\n",
       "      <td>Yes</td>\n",
       "      <td>Month-to-month</td>\n",
       "      <td>Yes</td>\n",
       "      <td>Credit card (automatic)</td>\n",
       "      <td>69.40</td>\n",
       "      <td>571.45</td>\n",
       "    </tr>\n",
       "    <tr>\n",
       "      <th>6</th>\n",
       "      <td>0013-SMEOE</td>\n",
       "      <td>No</td>\n",
       "      <td>Female</td>\n",
       "      <td>1</td>\n",
       "      <td>Yes</td>\n",
       "      <td>No</td>\n",
       "      <td>71</td>\n",
       "      <td>Yes</td>\n",
       "      <td>No</td>\n",
       "      <td>Fiber optic</td>\n",
       "      <td>Yes</td>\n",
       "      <td>Yes</td>\n",
       "      <td>Yes</td>\n",
       "      <td>Yes</td>\n",
       "      <td>Yes</td>\n",
       "      <td>Yes</td>\n",
       "      <td>Two year</td>\n",
       "      <td>Yes</td>\n",
       "      <td>Bank transfer (automatic)</td>\n",
       "      <td>109.70</td>\n",
       "      <td>7904.25</td>\n",
       "    </tr>\n",
       "    <tr>\n",
       "      <th>7</th>\n",
       "      <td>0014-BMAQU</td>\n",
       "      <td>No</td>\n",
       "      <td>Male</td>\n",
       "      <td>0</td>\n",
       "      <td>Yes</td>\n",
       "      <td>No</td>\n",
       "      <td>63</td>\n",
       "      <td>Yes</td>\n",
       "      <td>Yes</td>\n",
       "      <td>Fiber optic</td>\n",
       "      <td>Yes</td>\n",
       "      <td>No</td>\n",
       "      <td>No</td>\n",
       "      <td>Yes</td>\n",
       "      <td>No</td>\n",
       "      <td>No</td>\n",
       "      <td>Two year</td>\n",
       "      <td>Yes</td>\n",
       "      <td>Credit card (automatic)</td>\n",
       "      <td>84.65</td>\n",
       "      <td>5377.8</td>\n",
       "    </tr>\n",
       "    <tr>\n",
       "      <th>8</th>\n",
       "      <td>0015-UOCOJ</td>\n",
       "      <td>No</td>\n",
       "      <td>Female</td>\n",
       "      <td>1</td>\n",
       "      <td>No</td>\n",
       "      <td>No</td>\n",
       "      <td>7</td>\n",
       "      <td>Yes</td>\n",
       "      <td>No</td>\n",
       "      <td>DSL</td>\n",
       "      <td>Yes</td>\n",
       "      <td>No</td>\n",
       "      <td>No</td>\n",
       "      <td>No</td>\n",
       "      <td>No</td>\n",
       "      <td>No</td>\n",
       "      <td>Month-to-month</td>\n",
       "      <td>Yes</td>\n",
       "      <td>Electronic check</td>\n",
       "      <td>48.20</td>\n",
       "      <td>340.35</td>\n",
       "    </tr>\n",
       "    <tr>\n",
       "      <th>9</th>\n",
       "      <td>0016-QLJIS</td>\n",
       "      <td>No</td>\n",
       "      <td>Female</td>\n",
       "      <td>0</td>\n",
       "      <td>Yes</td>\n",
       "      <td>Yes</td>\n",
       "      <td>65</td>\n",
       "      <td>Yes</td>\n",
       "      <td>Yes</td>\n",
       "      <td>DSL</td>\n",
       "      <td>Yes</td>\n",
       "      <td>Yes</td>\n",
       "      <td>Yes</td>\n",
       "      <td>Yes</td>\n",
       "      <td>Yes</td>\n",
       "      <td>Yes</td>\n",
       "      <td>Two year</td>\n",
       "      <td>Yes</td>\n",
       "      <td>Mailed check</td>\n",
       "      <td>90.45</td>\n",
       "      <td>5957.9</td>\n",
       "    </tr>\n",
       "  </tbody>\n",
       "</table>\n",
       "</div>"
      ],
      "text/plain": [
       "   customerID Churn  gender  SeniorCitizen Partner Dependents  tenure  \\\n",
       "0  0002-ORFBO    No  Female              0     Yes        Yes       9   \n",
       "1  0003-MKNFE    No    Male              0      No         No       9   \n",
       "2  0004-TLHLJ   Yes    Male              0      No         No       4   \n",
       "3  0011-IGKFF   Yes    Male              1     Yes         No      13   \n",
       "4  0013-EXCHZ   Yes  Female              1     Yes         No       3   \n",
       "5  0013-MHZWF    No  Female              0      No        Yes       9   \n",
       "6  0013-SMEOE    No  Female              1     Yes         No      71   \n",
       "7  0014-BMAQU    No    Male              0     Yes         No      63   \n",
       "8  0015-UOCOJ    No  Female              1      No         No       7   \n",
       "9  0016-QLJIS    No  Female              0     Yes        Yes      65   \n",
       "\n",
       "  PhoneService MultipleLines InternetService OnlineSecurity OnlineBackup  \\\n",
       "0          Yes            No             DSL             No          Yes   \n",
       "1          Yes           Yes             DSL             No           No   \n",
       "2          Yes            No     Fiber optic             No           No   \n",
       "3          Yes            No     Fiber optic             No          Yes   \n",
       "4          Yes            No     Fiber optic             No           No   \n",
       "5          Yes            No             DSL             No           No   \n",
       "6          Yes            No     Fiber optic            Yes          Yes   \n",
       "7          Yes           Yes     Fiber optic            Yes           No   \n",
       "8          Yes            No             DSL            Yes           No   \n",
       "9          Yes           Yes             DSL            Yes          Yes   \n",
       "\n",
       "  DeviceProtection TechSupport StreamingTV StreamingMovies        Contract  \\\n",
       "0               No         Yes         Yes              No        One year   \n",
       "1               No          No          No             Yes  Month-to-month   \n",
       "2              Yes          No          No              No  Month-to-month   \n",
       "3              Yes          No         Yes             Yes  Month-to-month   \n",
       "4               No         Yes         Yes              No  Month-to-month   \n",
       "5               No         Yes         Yes             Yes  Month-to-month   \n",
       "6              Yes         Yes         Yes             Yes        Two year   \n",
       "7               No         Yes          No              No        Two year   \n",
       "8               No          No          No              No  Month-to-month   \n",
       "9              Yes         Yes         Yes             Yes        Two year   \n",
       "\n",
       "  PaperlessBilling              PaymentMethod  Charges.Monthly Charges.Total  \n",
       "0              Yes               Mailed check            65.60         593.3  \n",
       "1               No               Mailed check            59.90         542.4  \n",
       "2              Yes           Electronic check            73.90        280.85  \n",
       "3              Yes           Electronic check            98.00       1237.85  \n",
       "4              Yes               Mailed check            83.90         267.4  \n",
       "5              Yes    Credit card (automatic)            69.40        571.45  \n",
       "6              Yes  Bank transfer (automatic)           109.70       7904.25  \n",
       "7              Yes    Credit card (automatic)            84.65        5377.8  \n",
       "8              Yes           Electronic check            48.20        340.35  \n",
       "9              Yes               Mailed check            90.45        5957.9  "
      ]
     },
     "execution_count": 676,
     "metadata": {},
     "output_type": "execute_result"
    }
   ],
   "source": [
    "dados.head(10)"
   ]
  },
  {
   "cell_type": "markdown",
   "id": "d4f6fada",
   "metadata": {},
   "source": [
    "## <font color=blue> Entendendo quais tipos de dados e informações tem no dataset\n",
    "---"
   ]
  },
  {
   "cell_type": "markdown",
   "id": "aecefe23",
   "metadata": {},
   "source": [
    "### Informações relacionadas a cada coluna dos dados\n",
    "---\n",
    "     \n",
    "> - `customerID` : Código de cada cliente\n",
    "> - `Churn` : Métrica que indica o quanto de clientes a empresa perdeu\n",
    "\n",
    " #### Dados Relacionados ao `customer`\n",
    "> - `gender` : Gênero do cliente (Masc. ou Femin.)\n",
    "> - `SeniorCitizen` : Se o cliente é idoso (1/0 - True/False)\n",
    "> - `Partner` : Coluna referente se o cliente possui um parceiro/parceira\n",
    "> - `Dependents` : Caso seja dependente de outra pessoa\n",
    "> - `tenure` : Tempo de permanência \n",
    "\n",
    " #### Dados Relacionados ao `phone`\n",
    "> - `PhoneService` : Se possui serviço de telefone\n",
    "> - `MultipleLines` : Se possui múltiplas linhas telefônicas\n",
    "\n",
    " #### Dados Relacionados a `internet`\n",
    "> - `InternetService` : Se possui serviço de internet\n",
    "> - `OnlineSecurity` : Se assinou o adicional de segurança online\n",
    "> - `OnlineBackup` : Se assinou o adicional de backup online\n",
    "> - `DeviceProtection` : Se assinou o adicional de proteção do aparelho\n",
    "> - `TechSupport` : Se assinou o suporte técnico\n",
    "> - `StreamingTV` : Se assinou Tv a cabo\n",
    "> - `StreamingMovies` : Caso tenha assinado Streaming de filnes\n",
    "\n",
    " #### Dados Relacionados a `account`\n",
    "> - `Contract` : Tipo de contrato\n",
    "> - `PaperlessBilling` : Se o cliente prefere receber online a fatura\n",
    "> - `PaymentMethod` : Método escolhido para pagamento do contrato\n",
    "> - `Charges.Monthly` : Gasto mensal de todos os serviços do cliente \n",
    "> - `Charges.Total` : Gasto total do cliente\n"
   ]
  },
  {
   "cell_type": "markdown",
   "id": "5bb69e16",
   "metadata": {},
   "source": [
    "### Tipos de dados\n",
    "---"
   ]
  },
  {
   "cell_type": "code",
   "execution_count": 677,
   "id": "8a98ff36",
   "metadata": {},
   "outputs": [
    {
     "name": "stdout",
     "output_type": "stream",
     "text": [
      "<class 'pandas.core.frame.DataFrame'>\n",
      "RangeIndex: 7267 entries, 0 to 7266\n",
      "Data columns (total 21 columns):\n",
      " #   Column            Non-Null Count  Dtype  \n",
      "---  ------            --------------  -----  \n",
      " 0   customerID        7267 non-null   object \n",
      " 1   Churn             7267 non-null   object \n",
      " 2   gender            7267 non-null   object \n",
      " 3   SeniorCitizen     7267 non-null   int64  \n",
      " 4   Partner           7267 non-null   object \n",
      " 5   Dependents        7267 non-null   object \n",
      " 6   tenure            7267 non-null   int64  \n",
      " 7   PhoneService      7267 non-null   object \n",
      " 8   MultipleLines     7267 non-null   object \n",
      " 9   InternetService   7267 non-null   object \n",
      " 10  OnlineSecurity    7267 non-null   object \n",
      " 11  OnlineBackup      7267 non-null   object \n",
      " 12  DeviceProtection  7267 non-null   object \n",
      " 13  TechSupport       7267 non-null   object \n",
      " 14  StreamingTV       7267 non-null   object \n",
      " 15  StreamingMovies   7267 non-null   object \n",
      " 16  Contract          7267 non-null   object \n",
      " 17  PaperlessBilling  7267 non-null   object \n",
      " 18  PaymentMethod     7267 non-null   object \n",
      " 19  Charges.Monthly   7267 non-null   float64\n",
      " 20  Charges.Total     7267 non-null   object \n",
      "dtypes: float64(1), int64(2), object(18)\n",
      "memory usage: 1.2+ MB\n"
     ]
    }
   ],
   "source": [
    "dados.info()"
   ]
  },
  {
   "cell_type": "markdown",
   "id": "7e48ebb2",
   "metadata": {},
   "source": [
    "## <font color=blue> Verificando inconsistências dos dados e tratando os mesmos\n",
    "---"
   ]
  },
  {
   "cell_type": "code",
   "execution_count": 678,
   "id": "44b7ce17",
   "metadata": {},
   "outputs": [
    {
     "data": {
      "text/plain": [
       "Index(['customerID', 'Churn', 'gender', 'SeniorCitizen', 'Partner',\n",
       "       'Dependents', 'tenure', 'PhoneService', 'MultipleLines',\n",
       "       'InternetService', 'OnlineSecurity', 'OnlineBackup', 'DeviceProtection',\n",
       "       'TechSupport', 'StreamingTV', 'StreamingMovies', 'Contract',\n",
       "       'PaperlessBilling', 'PaymentMethod', 'Charges.Monthly',\n",
       "       'Charges.Total'],\n",
       "      dtype='object')"
      ]
     },
     "execution_count": 678,
     "metadata": {},
     "output_type": "execute_result"
    }
   ],
   "source": [
    "dados.columns"
   ]
  },
  {
   "cell_type": "markdown",
   "id": "621390f8",
   "metadata": {},
   "source": [
    "- `customerID`\n",
    "    - não possui inconsistências"
   ]
  },
  {
   "cell_type": "markdown",
   "id": "4b7d3220",
   "metadata": {},
   "source": [
    "- `Churn`"
   ]
  },
  {
   "cell_type": "code",
   "execution_count": 679,
   "id": "9ca482fd",
   "metadata": {},
   "outputs": [
    {
     "data": {
      "text/plain": [
       "array(['No', 'Yes', ''], dtype=object)"
      ]
     },
     "execution_count": 679,
     "metadata": {},
     "output_type": "execute_result"
    }
   ],
   "source": [
    "dados.Churn.unique()"
   ]
  },
  {
   "cell_type": "code",
   "execution_count": 680,
   "id": "92b4455d",
   "metadata": {},
   "outputs": [
    {
     "data": {
      "text/plain": [
       "No     5174\n",
       "Yes    1869\n",
       "        224\n",
       "Name: Churn, dtype: int64"
      ]
     },
     "execution_count": 680,
     "metadata": {},
     "output_type": "execute_result"
    }
   ],
   "source": [
    "dados.Churn.value_counts()"
   ]
  },
  {
   "cell_type": "code",
   "execution_count": 681,
   "id": "4d33f34b",
   "metadata": {},
   "outputs": [],
   "source": [
    "filtro = dados.Churn == \"\"\n",
    "dados = dados[~filtro]"
   ]
  },
  {
   "cell_type": "code",
   "execution_count": 682,
   "id": "afdcefd9",
   "metadata": {},
   "outputs": [
    {
     "data": {
      "text/plain": [
       "No     5174\n",
       "Yes    1869\n",
       "Name: Churn, dtype: int64"
      ]
     },
     "execution_count": 682,
     "metadata": {},
     "output_type": "execute_result"
    }
   ],
   "source": [
    "dados.Churn.value_counts()"
   ]
  },
  {
   "cell_type": "markdown",
   "id": "615bbf18",
   "metadata": {},
   "source": [
    "### <font color=red> Conclusões\n",
    "---\n",
    "\n",
    "- Optei por retirar os registros que contém valores vazios ('')\n",
    "- Pois é o um dos dados mais importantes do dataset e não deverá ter itens vazios ou nulos"
   ]
  },
  {
   "cell_type": "markdown",
   "id": "0b23dc2d",
   "metadata": {},
   "source": [
    "- `gender`\n",
    "    - não possui inconsistências"
   ]
  },
  {
   "cell_type": "code",
   "execution_count": 683,
   "id": "ff45512f",
   "metadata": {},
   "outputs": [
    {
     "data": {
      "text/plain": [
       "0"
      ]
     },
     "execution_count": 683,
     "metadata": {},
     "output_type": "execute_result"
    }
   ],
   "source": [
    "dados.gender.isna().sum()"
   ]
  },
  {
   "cell_type": "code",
   "execution_count": 684,
   "id": "5dd22ac6",
   "metadata": {},
   "outputs": [
    {
     "data": {
      "text/plain": [
       "Male      3555\n",
       "Female    3488\n",
       "Name: gender, dtype: int64"
      ]
     },
     "execution_count": 684,
     "metadata": {},
     "output_type": "execute_result"
    }
   ],
   "source": [
    "dados.gender.value_counts()"
   ]
  },
  {
   "cell_type": "markdown",
   "id": "7d5df410",
   "metadata": {},
   "source": [
    "- `SeniorCitizen`"
   ]
  },
  {
   "cell_type": "code",
   "execution_count": 685,
   "id": "3db143a7",
   "metadata": {},
   "outputs": [
    {
     "data": {
      "text/plain": [
       "0"
      ]
     },
     "execution_count": 685,
     "metadata": {},
     "output_type": "execute_result"
    }
   ],
   "source": [
    "dados.SeniorCitizen.isna().sum()"
   ]
  },
  {
   "cell_type": "code",
   "execution_count": 686,
   "id": "046176a0",
   "metadata": {},
   "outputs": [
    {
     "data": {
      "text/plain": [
       "0    5901\n",
       "1    1142\n",
       "Name: SeniorCitizen, dtype: int64"
      ]
     },
     "execution_count": 686,
     "metadata": {},
     "output_type": "execute_result"
    }
   ],
   "source": [
    "dados.SeniorCitizen.value_counts()"
   ]
  },
  {
   "cell_type": "code",
   "execution_count": 687,
   "id": "725321be",
   "metadata": {},
   "outputs": [],
   "source": [
    "valores = {0: 'No', 1: 'Yes'}\n",
    "dados.SeniorCitizen.replace(valores, inplace=True)"
   ]
  },
  {
   "cell_type": "markdown",
   "id": "317ebbf6",
   "metadata": {},
   "source": [
    "### <font color=red> Conclusões\n",
    "---\n",
    "\n",
    "- Possui uma inconsistência pois no resto do dataset foi usado Yes/No e nessa coluna esta como 1/0\n",
    "- Modifiquei os valores para Yes/No"
   ]
  },
  {
   "cell_type": "markdown",
   "id": "4e614b6c",
   "metadata": {},
   "source": [
    "- `Partner`\n",
    "    - Não possui inconsistências"
   ]
  },
  {
   "cell_type": "code",
   "execution_count": 688,
   "id": "f25054e1",
   "metadata": {},
   "outputs": [
    {
     "data": {
      "text/plain": [
       "No     3641\n",
       "Yes    3402\n",
       "Name: Partner, dtype: int64"
      ]
     },
     "execution_count": 688,
     "metadata": {},
     "output_type": "execute_result"
    }
   ],
   "source": [
    "dados.Partner.value_counts()"
   ]
  },
  {
   "cell_type": "code",
   "execution_count": 689,
   "id": "c877e085",
   "metadata": {},
   "outputs": [
    {
     "data": {
      "text/plain": [
       "array(['Yes', 'No'], dtype=object)"
      ]
     },
     "execution_count": 689,
     "metadata": {},
     "output_type": "execute_result"
    }
   ],
   "source": [
    "dados.Partner.unique()"
   ]
  },
  {
   "cell_type": "markdown",
   "id": "1a9c3eae",
   "metadata": {},
   "source": [
    "- `Dependents`\n",
    "    - Não possui inconsistências"
   ]
  },
  {
   "cell_type": "code",
   "execution_count": 690,
   "id": "037ca76a",
   "metadata": {},
   "outputs": [
    {
     "data": {
      "text/plain": [
       "0"
      ]
     },
     "execution_count": 690,
     "metadata": {},
     "output_type": "execute_result"
    }
   ],
   "source": [
    "dados.Dependents.isna().sum()"
   ]
  },
  {
   "cell_type": "code",
   "execution_count": 691,
   "id": "b91e884c",
   "metadata": {},
   "outputs": [
    {
     "data": {
      "text/plain": [
       "array(['Yes', 'No'], dtype=object)"
      ]
     },
     "execution_count": 691,
     "metadata": {},
     "output_type": "execute_result"
    }
   ],
   "source": [
    "dados.Dependents.unique()"
   ]
  },
  {
   "cell_type": "code",
   "execution_count": 692,
   "id": "95a812c1",
   "metadata": {},
   "outputs": [
    {
     "data": {
      "text/plain": [
       "No     4933\n",
       "Yes    2110\n",
       "Name: Dependents, dtype: int64"
      ]
     },
     "execution_count": 692,
     "metadata": {},
     "output_type": "execute_result"
    }
   ],
   "source": [
    "dados.Dependents.value_counts()"
   ]
  },
  {
   "cell_type": "markdown",
   "id": "4547e07f",
   "metadata": {},
   "source": [
    "- `tenure`\n",
    "    - Não possui inconsistências"
   ]
  },
  {
   "cell_type": "code",
   "execution_count": 693,
   "id": "d6dc9ed9",
   "metadata": {},
   "outputs": [
    {
     "data": {
      "text/plain": [
       "array([ 9,  4, 13,  3, 71, 63,  7, 65, 54, 72,  5, 56, 34,  1, 45, 50, 23,\n",
       "       55, 26, 69, 37, 49, 66, 67, 20, 43, 59, 12, 27,  2, 25, 29, 14, 35,\n",
       "       64, 39, 40, 11,  6, 30, 70, 57, 58, 16, 32, 33, 10, 21, 61, 15, 44,\n",
       "       22, 24, 19, 47, 62, 46, 52,  8, 60, 48, 28, 41, 53, 68, 31, 36, 17,\n",
       "       18, 51, 38, 42,  0], dtype=int64)"
      ]
     },
     "execution_count": 693,
     "metadata": {},
     "output_type": "execute_result"
    }
   ],
   "source": [
    "dados.tenure.unique()"
   ]
  },
  {
   "cell_type": "code",
   "execution_count": 694,
   "id": "94dda15a",
   "metadata": {},
   "outputs": [
    {
     "data": {
      "text/plain": [
       "0"
      ]
     },
     "execution_count": 694,
     "metadata": {},
     "output_type": "execute_result"
    }
   ],
   "source": [
    "dados.tenure.isna().sum()"
   ]
  },
  {
   "cell_type": "markdown",
   "id": "3ff3b5ff",
   "metadata": {},
   "source": [
    "- `PhoneService`\n",
    "    - Não possui inconsistências"
   ]
  },
  {
   "cell_type": "code",
   "execution_count": 695,
   "id": "744d8e56",
   "metadata": {},
   "outputs": [
    {
     "data": {
      "text/plain": [
       "array(['Yes', 'No'], dtype=object)"
      ]
     },
     "execution_count": 695,
     "metadata": {},
     "output_type": "execute_result"
    }
   ],
   "source": [
    "dados.PhoneService.unique()"
   ]
  },
  {
   "cell_type": "code",
   "execution_count": 696,
   "id": "1c4725d8",
   "metadata": {},
   "outputs": [
    {
     "data": {
      "text/plain": [
       "0"
      ]
     },
     "execution_count": 696,
     "metadata": {},
     "output_type": "execute_result"
    }
   ],
   "source": [
    "dados.PhoneService.isna().sum()"
   ]
  },
  {
   "cell_type": "markdown",
   "id": "dda4a97f",
   "metadata": {},
   "source": [
    "- `MultipleLines`\n",
    "    - Não possui inconsistências"
   ]
  },
  {
   "cell_type": "code",
   "execution_count": 697,
   "id": "610ef770",
   "metadata": {},
   "outputs": [
    {
     "data": {
      "text/plain": [
       "array(['No', 'Yes', 'No phone service'], dtype=object)"
      ]
     },
     "execution_count": 697,
     "metadata": {},
     "output_type": "execute_result"
    }
   ],
   "source": [
    "dados.MultipleLines.unique()"
   ]
  },
  {
   "cell_type": "code",
   "execution_count": 698,
   "id": "b4a9914f",
   "metadata": {},
   "outputs": [
    {
     "data": {
      "text/plain": [
       "No                  3390\n",
       "Yes                 2971\n",
       "No phone service     682\n",
       "Name: MultipleLines, dtype: int64"
      ]
     },
     "execution_count": 698,
     "metadata": {},
     "output_type": "execute_result"
    }
   ],
   "source": [
    "dados.MultipleLines.value_counts()"
   ]
  },
  {
   "cell_type": "markdown",
   "id": "88a69de8",
   "metadata": {},
   "source": [
    "- `InternetService`\n",
    "    - Não possui inconsistências"
   ]
  },
  {
   "cell_type": "code",
   "execution_count": 699,
   "id": "527b652d",
   "metadata": {},
   "outputs": [
    {
     "data": {
      "text/plain": [
       "array(['DSL', 'Fiber optic', 'No'], dtype=object)"
      ]
     },
     "execution_count": 699,
     "metadata": {},
     "output_type": "execute_result"
    }
   ],
   "source": [
    "dados.InternetService.unique()"
   ]
  },
  {
   "cell_type": "code",
   "execution_count": 700,
   "id": "c09ef42e",
   "metadata": {},
   "outputs": [
    {
     "data": {
      "text/plain": [
       "0"
      ]
     },
     "execution_count": 700,
     "metadata": {},
     "output_type": "execute_result"
    }
   ],
   "source": [
    "dados.InternetService.isna().sum()"
   ]
  },
  {
   "cell_type": "markdown",
   "id": "8c990691",
   "metadata": {},
   "source": [
    "- `OnlineSecurity`\n",
    "    - Não possui inconsistências"
   ]
  },
  {
   "cell_type": "code",
   "execution_count": 701,
   "id": "aa40017f",
   "metadata": {},
   "outputs": [
    {
     "data": {
      "text/plain": [
       "array(['No', 'Yes', 'No internet service'], dtype=object)"
      ]
     },
     "execution_count": 701,
     "metadata": {},
     "output_type": "execute_result"
    }
   ],
   "source": [
    "dados.OnlineSecurity.unique()"
   ]
  },
  {
   "cell_type": "code",
   "execution_count": 702,
   "id": "ffe4a9ed",
   "metadata": {},
   "outputs": [
    {
     "data": {
      "text/plain": [
       "0"
      ]
     },
     "execution_count": 702,
     "metadata": {},
     "output_type": "execute_result"
    }
   ],
   "source": [
    "dados.OnlineSecurity.isna().sum()"
   ]
  },
  {
   "cell_type": "markdown",
   "id": "3a5d7bdc",
   "metadata": {},
   "source": [
    "- `OnlineBackup`\n",
    "    - Não possui inconsistências"
   ]
  },
  {
   "cell_type": "code",
   "execution_count": 703,
   "id": "63a6f571",
   "metadata": {},
   "outputs": [
    {
     "data": {
      "text/plain": [
       "array(['Yes', 'No', 'No internet service'], dtype=object)"
      ]
     },
     "execution_count": 703,
     "metadata": {},
     "output_type": "execute_result"
    }
   ],
   "source": [
    "dados.OnlineBackup.unique()"
   ]
  },
  {
   "cell_type": "code",
   "execution_count": 704,
   "id": "ca4f443f",
   "metadata": {},
   "outputs": [
    {
     "data": {
      "text/plain": [
       "0"
      ]
     },
     "execution_count": 704,
     "metadata": {},
     "output_type": "execute_result"
    }
   ],
   "source": [
    "dados.OnlineBackup.isna().sum()"
   ]
  },
  {
   "cell_type": "markdown",
   "id": "9807a3e0",
   "metadata": {},
   "source": [
    "- `DeviceProtection`\n",
    "    - Não possui inconsistências"
   ]
  },
  {
   "cell_type": "code",
   "execution_count": 705,
   "id": "1317b171",
   "metadata": {},
   "outputs": [
    {
     "data": {
      "text/plain": [
       "array(['No', 'Yes', 'No internet service'], dtype=object)"
      ]
     },
     "execution_count": 705,
     "metadata": {},
     "output_type": "execute_result"
    }
   ],
   "source": [
    "dados.DeviceProtection.unique()"
   ]
  },
  {
   "cell_type": "code",
   "execution_count": 706,
   "id": "508349d5",
   "metadata": {},
   "outputs": [
    {
     "data": {
      "text/plain": [
       "0"
      ]
     },
     "execution_count": 706,
     "metadata": {},
     "output_type": "execute_result"
    }
   ],
   "source": [
    "dados.DeviceProtection.isna().sum()"
   ]
  },
  {
   "cell_type": "markdown",
   "id": "d48af59c",
   "metadata": {},
   "source": [
    "- `TechSupport`\n",
    "    - Não possui inconsistências"
   ]
  },
  {
   "cell_type": "code",
   "execution_count": 707,
   "id": "adcea5a2",
   "metadata": {},
   "outputs": [
    {
     "data": {
      "text/plain": [
       "array(['Yes', 'No', 'No internet service'], dtype=object)"
      ]
     },
     "execution_count": 707,
     "metadata": {},
     "output_type": "execute_result"
    }
   ],
   "source": [
    "dados.TechSupport.unique()"
   ]
  },
  {
   "cell_type": "code",
   "execution_count": 708,
   "id": "1e9e48b2",
   "metadata": {},
   "outputs": [
    {
     "data": {
      "text/plain": [
       "0"
      ]
     },
     "execution_count": 708,
     "metadata": {},
     "output_type": "execute_result"
    }
   ],
   "source": [
    "dados.TechSupport.isna().sum()"
   ]
  },
  {
   "cell_type": "markdown",
   "id": "2dc8b1e9",
   "metadata": {},
   "source": [
    "- `StreamingTV`\n",
    "    - Não possui inconsistências"
   ]
  },
  {
   "cell_type": "code",
   "execution_count": 709,
   "id": "ddc45310",
   "metadata": {},
   "outputs": [
    {
     "data": {
      "text/plain": [
       "array(['Yes', 'No', 'No internet service'], dtype=object)"
      ]
     },
     "execution_count": 709,
     "metadata": {},
     "output_type": "execute_result"
    }
   ],
   "source": [
    "dados.StreamingTV.unique()"
   ]
  },
  {
   "cell_type": "code",
   "execution_count": 710,
   "id": "7a32d51d",
   "metadata": {},
   "outputs": [
    {
     "data": {
      "text/plain": [
       "0"
      ]
     },
     "execution_count": 710,
     "metadata": {},
     "output_type": "execute_result"
    }
   ],
   "source": [
    "dados.StreamingTV.isna().sum()"
   ]
  },
  {
   "cell_type": "markdown",
   "id": "3af56eaf",
   "metadata": {},
   "source": [
    "- `StreamingMovies`\n",
    "    - Não possui inconsistências"
   ]
  },
  {
   "cell_type": "code",
   "execution_count": 711,
   "id": "4c90cd2e",
   "metadata": {},
   "outputs": [
    {
     "data": {
      "text/plain": [
       "array(['No', 'Yes', 'No internet service'], dtype=object)"
      ]
     },
     "execution_count": 711,
     "metadata": {},
     "output_type": "execute_result"
    }
   ],
   "source": [
    "dados.StreamingMovies.unique()"
   ]
  },
  {
   "cell_type": "code",
   "execution_count": 712,
   "id": "47c4b962",
   "metadata": {},
   "outputs": [
    {
     "data": {
      "text/plain": [
       "0"
      ]
     },
     "execution_count": 712,
     "metadata": {},
     "output_type": "execute_result"
    }
   ],
   "source": [
    "dados.StreamingMovies.isna().sum()"
   ]
  },
  {
   "cell_type": "markdown",
   "id": "7a64b3f5",
   "metadata": {},
   "source": [
    "- `Contract`\n",
    "    - Não possui inconsistências"
   ]
  },
  {
   "cell_type": "code",
   "execution_count": 713,
   "id": "797769fb",
   "metadata": {},
   "outputs": [
    {
     "data": {
      "text/plain": [
       "array(['One year', 'Month-to-month', 'Two year'], dtype=object)"
      ]
     },
     "execution_count": 713,
     "metadata": {},
     "output_type": "execute_result"
    }
   ],
   "source": [
    "dados.Contract.unique()"
   ]
  },
  {
   "cell_type": "code",
   "execution_count": 714,
   "id": "29e46cb9",
   "metadata": {},
   "outputs": [
    {
     "data": {
      "text/plain": [
       "0"
      ]
     },
     "execution_count": 714,
     "metadata": {},
     "output_type": "execute_result"
    }
   ],
   "source": [
    "dados.Contract.isna().sum()"
   ]
  },
  {
   "cell_type": "markdown",
   "id": "eda10f7c",
   "metadata": {},
   "source": [
    "- `PaperlessBilling`\n",
    "    - Não possui inconsistências"
   ]
  },
  {
   "cell_type": "code",
   "execution_count": 715,
   "id": "f162fa42",
   "metadata": {},
   "outputs": [
    {
     "data": {
      "text/plain": [
       "array(['Yes', 'No'], dtype=object)"
      ]
     },
     "execution_count": 715,
     "metadata": {},
     "output_type": "execute_result"
    }
   ],
   "source": [
    "dados.PaperlessBilling.unique()"
   ]
  },
  {
   "cell_type": "code",
   "execution_count": 716,
   "id": "2b52e267",
   "metadata": {},
   "outputs": [
    {
     "data": {
      "text/plain": [
       "0"
      ]
     },
     "execution_count": 716,
     "metadata": {},
     "output_type": "execute_result"
    }
   ],
   "source": [
    "dados.PaperlessBilling.isna().sum()"
   ]
  },
  {
   "cell_type": "markdown",
   "id": "38da2578",
   "metadata": {},
   "source": [
    "- `PaymentMethod`\n",
    "    - Não possui inconsistências"
   ]
  },
  {
   "cell_type": "code",
   "execution_count": 717,
   "id": "8156b974",
   "metadata": {},
   "outputs": [
    {
     "data": {
      "text/plain": [
       "array(['Mailed check', 'Electronic check', 'Credit card (automatic)',\n",
       "       'Bank transfer (automatic)'], dtype=object)"
      ]
     },
     "execution_count": 717,
     "metadata": {},
     "output_type": "execute_result"
    }
   ],
   "source": [
    "dados.PaymentMethod.unique()"
   ]
  },
  {
   "cell_type": "code",
   "execution_count": 718,
   "id": "35befe91",
   "metadata": {},
   "outputs": [
    {
     "data": {
      "text/plain": [
       "0"
      ]
     },
     "execution_count": 718,
     "metadata": {},
     "output_type": "execute_result"
    }
   ],
   "source": [
    "dados.PaymentMethod.isna().sum()"
   ]
  },
  {
   "cell_type": "markdown",
   "id": "9546128d",
   "metadata": {},
   "source": [
    "- `Charges.Monthly`\n",
    "    - Não possui inconsistências"
   ]
  },
  {
   "cell_type": "code",
   "execution_count": 719,
   "id": "7c653e9b",
   "metadata": {},
   "outputs": [
    {
     "data": {
      "text/plain": [
       "array([65.6 , 59.9 , 73.9 , ..., 91.75, 68.8 , 67.85])"
      ]
     },
     "execution_count": 719,
     "metadata": {},
     "output_type": "execute_result"
    }
   ],
   "source": [
    "dados['Charges.Monthly'].unique()"
   ]
  },
  {
   "cell_type": "code",
   "execution_count": 720,
   "id": "a71f0e37",
   "metadata": {},
   "outputs": [
    {
     "data": {
      "text/plain": [
       "0"
      ]
     },
     "execution_count": 720,
     "metadata": {},
     "output_type": "execute_result"
    }
   ],
   "source": [
    "dados['Charges.Monthly'].isna().sum()"
   ]
  },
  {
   "cell_type": "markdown",
   "id": "abc89a4f",
   "metadata": {},
   "source": [
    "- `Charges.Total`"
   ]
  },
  {
   "cell_type": "code",
   "execution_count": 721,
   "id": "4d085540",
   "metadata": {},
   "outputs": [
    {
     "data": {
      "text/plain": [
       "array(['593.3', '542.4', '280.85', ..., '742.9', '4627.65', '3707.6'],\n",
       "      dtype=object)"
      ]
     },
     "execution_count": 721,
     "metadata": {},
     "output_type": "execute_result"
    }
   ],
   "source": [
    "dados['Charges.Total'].unique()"
   ]
  },
  {
   "cell_type": "code",
   "execution_count": 722,
   "id": "7461486f",
   "metadata": {},
   "outputs": [
    {
     "data": {
      "text/plain": [
       "           11\n",
       "20.2       11\n",
       "19.75       9\n",
       "19.9        8\n",
       "20.05       8\n",
       "           ..\n",
       "2387.75     1\n",
       "6302.8      1\n",
       "2058.5      1\n",
       "829.55      1\n",
       "3707.6      1\n",
       "Name: Charges.Total, Length: 6531, dtype: int64"
      ]
     },
     "execution_count": 722,
     "metadata": {},
     "output_type": "execute_result"
    }
   ],
   "source": [
    "dados['Charges.Total'].value_counts()"
   ]
  },
  {
   "cell_type": "code",
   "execution_count": 723,
   "id": "a1aa6782",
   "metadata": {},
   "outputs": [],
   "source": [
    "# Erro devido à registros com dados incorretos\n",
    "\n",
    "# dados['Charges.Total'].astype(float)"
   ]
  },
  {
   "cell_type": "code",
   "execution_count": 724,
   "id": "5413f27e",
   "metadata": {
    "scrolled": true
   },
   "outputs": [
    {
     "data": {
      "text/html": [
       "<div>\n",
       "<style scoped>\n",
       "    .dataframe tbody tr th:only-of-type {\n",
       "        vertical-align: middle;\n",
       "    }\n",
       "\n",
       "    .dataframe tbody tr th {\n",
       "        vertical-align: top;\n",
       "    }\n",
       "\n",
       "    .dataframe thead th {\n",
       "        text-align: right;\n",
       "    }\n",
       "</style>\n",
       "<table border=\"1\" class=\"dataframe\">\n",
       "  <thead>\n",
       "    <tr style=\"text-align: right;\">\n",
       "      <th></th>\n",
       "      <th>customerID</th>\n",
       "      <th>Churn</th>\n",
       "      <th>gender</th>\n",
       "      <th>SeniorCitizen</th>\n",
       "      <th>Partner</th>\n",
       "      <th>Dependents</th>\n",
       "      <th>tenure</th>\n",
       "      <th>PhoneService</th>\n",
       "      <th>MultipleLines</th>\n",
       "      <th>InternetService</th>\n",
       "      <th>OnlineSecurity</th>\n",
       "      <th>OnlineBackup</th>\n",
       "      <th>DeviceProtection</th>\n",
       "      <th>TechSupport</th>\n",
       "      <th>StreamingTV</th>\n",
       "      <th>StreamingMovies</th>\n",
       "      <th>Contract</th>\n",
       "      <th>PaperlessBilling</th>\n",
       "      <th>PaymentMethod</th>\n",
       "      <th>Charges.Monthly</th>\n",
       "      <th>Charges.Total</th>\n",
       "    </tr>\n",
       "  </thead>\n",
       "  <tbody>\n",
       "    <tr>\n",
       "      <th>975</th>\n",
       "      <td>1371-DWPAZ</td>\n",
       "      <td>No</td>\n",
       "      <td>Female</td>\n",
       "      <td>No</td>\n",
       "      <td>Yes</td>\n",
       "      <td>Yes</td>\n",
       "      <td>0</td>\n",
       "      <td>No</td>\n",
       "      <td>No phone service</td>\n",
       "      <td>DSL</td>\n",
       "      <td>Yes</td>\n",
       "      <td>Yes</td>\n",
       "      <td>Yes</td>\n",
       "      <td>Yes</td>\n",
       "      <td>Yes</td>\n",
       "      <td>No</td>\n",
       "      <td>Two year</td>\n",
       "      <td>No</td>\n",
       "      <td>Credit card (automatic)</td>\n",
       "      <td>56.05</td>\n",
       "      <td></td>\n",
       "    </tr>\n",
       "    <tr>\n",
       "      <th>1775</th>\n",
       "      <td>2520-SGTTA</td>\n",
       "      <td>No</td>\n",
       "      <td>Female</td>\n",
       "      <td>No</td>\n",
       "      <td>Yes</td>\n",
       "      <td>Yes</td>\n",
       "      <td>0</td>\n",
       "      <td>Yes</td>\n",
       "      <td>No</td>\n",
       "      <td>No</td>\n",
       "      <td>No internet service</td>\n",
       "      <td>No internet service</td>\n",
       "      <td>No internet service</td>\n",
       "      <td>No internet service</td>\n",
       "      <td>No internet service</td>\n",
       "      <td>No internet service</td>\n",
       "      <td>Two year</td>\n",
       "      <td>No</td>\n",
       "      <td>Mailed check</td>\n",
       "      <td>20.00</td>\n",
       "      <td></td>\n",
       "    </tr>\n",
       "    <tr>\n",
       "      <th>1955</th>\n",
       "      <td>2775-SEFEE</td>\n",
       "      <td>No</td>\n",
       "      <td>Male</td>\n",
       "      <td>No</td>\n",
       "      <td>No</td>\n",
       "      <td>Yes</td>\n",
       "      <td>0</td>\n",
       "      <td>Yes</td>\n",
       "      <td>Yes</td>\n",
       "      <td>DSL</td>\n",
       "      <td>Yes</td>\n",
       "      <td>Yes</td>\n",
       "      <td>No</td>\n",
       "      <td>Yes</td>\n",
       "      <td>No</td>\n",
       "      <td>No</td>\n",
       "      <td>Two year</td>\n",
       "      <td>Yes</td>\n",
       "      <td>Bank transfer (automatic)</td>\n",
       "      <td>61.90</td>\n",
       "      <td></td>\n",
       "    </tr>\n",
       "    <tr>\n",
       "      <th>2075</th>\n",
       "      <td>2923-ARZLG</td>\n",
       "      <td>No</td>\n",
       "      <td>Male</td>\n",
       "      <td>No</td>\n",
       "      <td>Yes</td>\n",
       "      <td>Yes</td>\n",
       "      <td>0</td>\n",
       "      <td>Yes</td>\n",
       "      <td>No</td>\n",
       "      <td>No</td>\n",
       "      <td>No internet service</td>\n",
       "      <td>No internet service</td>\n",
       "      <td>No internet service</td>\n",
       "      <td>No internet service</td>\n",
       "      <td>No internet service</td>\n",
       "      <td>No internet service</td>\n",
       "      <td>One year</td>\n",
       "      <td>Yes</td>\n",
       "      <td>Mailed check</td>\n",
       "      <td>19.70</td>\n",
       "      <td></td>\n",
       "    </tr>\n",
       "    <tr>\n",
       "      <th>2232</th>\n",
       "      <td>3115-CZMZD</td>\n",
       "      <td>No</td>\n",
       "      <td>Male</td>\n",
       "      <td>No</td>\n",
       "      <td>No</td>\n",
       "      <td>Yes</td>\n",
       "      <td>0</td>\n",
       "      <td>Yes</td>\n",
       "      <td>No</td>\n",
       "      <td>No</td>\n",
       "      <td>No internet service</td>\n",
       "      <td>No internet service</td>\n",
       "      <td>No internet service</td>\n",
       "      <td>No internet service</td>\n",
       "      <td>No internet service</td>\n",
       "      <td>No internet service</td>\n",
       "      <td>Two year</td>\n",
       "      <td>No</td>\n",
       "      <td>Mailed check</td>\n",
       "      <td>20.25</td>\n",
       "      <td></td>\n",
       "    </tr>\n",
       "    <tr>\n",
       "      <th>2308</th>\n",
       "      <td>3213-VVOLG</td>\n",
       "      <td>No</td>\n",
       "      <td>Male</td>\n",
       "      <td>No</td>\n",
       "      <td>Yes</td>\n",
       "      <td>Yes</td>\n",
       "      <td>0</td>\n",
       "      <td>Yes</td>\n",
       "      <td>Yes</td>\n",
       "      <td>No</td>\n",
       "      <td>No internet service</td>\n",
       "      <td>No internet service</td>\n",
       "      <td>No internet service</td>\n",
       "      <td>No internet service</td>\n",
       "      <td>No internet service</td>\n",
       "      <td>No internet service</td>\n",
       "      <td>Two year</td>\n",
       "      <td>No</td>\n",
       "      <td>Mailed check</td>\n",
       "      <td>25.35</td>\n",
       "      <td></td>\n",
       "    </tr>\n",
       "    <tr>\n",
       "      <th>2930</th>\n",
       "      <td>4075-WKNIU</td>\n",
       "      <td>No</td>\n",
       "      <td>Female</td>\n",
       "      <td>No</td>\n",
       "      <td>Yes</td>\n",
       "      <td>Yes</td>\n",
       "      <td>0</td>\n",
       "      <td>Yes</td>\n",
       "      <td>Yes</td>\n",
       "      <td>DSL</td>\n",
       "      <td>No</td>\n",
       "      <td>Yes</td>\n",
       "      <td>Yes</td>\n",
       "      <td>Yes</td>\n",
       "      <td>Yes</td>\n",
       "      <td>No</td>\n",
       "      <td>Two year</td>\n",
       "      <td>No</td>\n",
       "      <td>Mailed check</td>\n",
       "      <td>73.35</td>\n",
       "      <td></td>\n",
       "    </tr>\n",
       "    <tr>\n",
       "      <th>3134</th>\n",
       "      <td>4367-NUYAO</td>\n",
       "      <td>No</td>\n",
       "      <td>Male</td>\n",
       "      <td>No</td>\n",
       "      <td>Yes</td>\n",
       "      <td>Yes</td>\n",
       "      <td>0</td>\n",
       "      <td>Yes</td>\n",
       "      <td>Yes</td>\n",
       "      <td>No</td>\n",
       "      <td>No internet service</td>\n",
       "      <td>No internet service</td>\n",
       "      <td>No internet service</td>\n",
       "      <td>No internet service</td>\n",
       "      <td>No internet service</td>\n",
       "      <td>No internet service</td>\n",
       "      <td>Two year</td>\n",
       "      <td>No</td>\n",
       "      <td>Mailed check</td>\n",
       "      <td>25.75</td>\n",
       "      <td></td>\n",
       "    </tr>\n",
       "    <tr>\n",
       "      <th>3203</th>\n",
       "      <td>4472-LVYGI</td>\n",
       "      <td>No</td>\n",
       "      <td>Female</td>\n",
       "      <td>No</td>\n",
       "      <td>Yes</td>\n",
       "      <td>Yes</td>\n",
       "      <td>0</td>\n",
       "      <td>No</td>\n",
       "      <td>No phone service</td>\n",
       "      <td>DSL</td>\n",
       "      <td>Yes</td>\n",
       "      <td>No</td>\n",
       "      <td>Yes</td>\n",
       "      <td>Yes</td>\n",
       "      <td>Yes</td>\n",
       "      <td>No</td>\n",
       "      <td>Two year</td>\n",
       "      <td>Yes</td>\n",
       "      <td>Bank transfer (automatic)</td>\n",
       "      <td>52.55</td>\n",
       "      <td></td>\n",
       "    </tr>\n",
       "    <tr>\n",
       "      <th>4169</th>\n",
       "      <td>5709-LVOEQ</td>\n",
       "      <td>No</td>\n",
       "      <td>Female</td>\n",
       "      <td>No</td>\n",
       "      <td>Yes</td>\n",
       "      <td>Yes</td>\n",
       "      <td>0</td>\n",
       "      <td>Yes</td>\n",
       "      <td>No</td>\n",
       "      <td>DSL</td>\n",
       "      <td>Yes</td>\n",
       "      <td>Yes</td>\n",
       "      <td>Yes</td>\n",
       "      <td>No</td>\n",
       "      <td>Yes</td>\n",
       "      <td>Yes</td>\n",
       "      <td>Two year</td>\n",
       "      <td>No</td>\n",
       "      <td>Mailed check</td>\n",
       "      <td>80.85</td>\n",
       "      <td></td>\n",
       "    </tr>\n",
       "    <tr>\n",
       "      <th>5599</th>\n",
       "      <td>7644-OMVMY</td>\n",
       "      <td>No</td>\n",
       "      <td>Male</td>\n",
       "      <td>No</td>\n",
       "      <td>Yes</td>\n",
       "      <td>Yes</td>\n",
       "      <td>0</td>\n",
       "      <td>Yes</td>\n",
       "      <td>No</td>\n",
       "      <td>No</td>\n",
       "      <td>No internet service</td>\n",
       "      <td>No internet service</td>\n",
       "      <td>No internet service</td>\n",
       "      <td>No internet service</td>\n",
       "      <td>No internet service</td>\n",
       "      <td>No internet service</td>\n",
       "      <td>Two year</td>\n",
       "      <td>No</td>\n",
       "      <td>Mailed check</td>\n",
       "      <td>19.85</td>\n",
       "      <td></td>\n",
       "    </tr>\n",
       "  </tbody>\n",
       "</table>\n",
       "</div>"
      ],
      "text/plain": [
       "      customerID Churn  gender SeniorCitizen Partner Dependents  tenure  \\\n",
       "975   1371-DWPAZ    No  Female            No     Yes        Yes       0   \n",
       "1775  2520-SGTTA    No  Female            No     Yes        Yes       0   \n",
       "1955  2775-SEFEE    No    Male            No      No        Yes       0   \n",
       "2075  2923-ARZLG    No    Male            No     Yes        Yes       0   \n",
       "2232  3115-CZMZD    No    Male            No      No        Yes       0   \n",
       "2308  3213-VVOLG    No    Male            No     Yes        Yes       0   \n",
       "2930  4075-WKNIU    No  Female            No     Yes        Yes       0   \n",
       "3134  4367-NUYAO    No    Male            No     Yes        Yes       0   \n",
       "3203  4472-LVYGI    No  Female            No     Yes        Yes       0   \n",
       "4169  5709-LVOEQ    No  Female            No     Yes        Yes       0   \n",
       "5599  7644-OMVMY    No    Male            No     Yes        Yes       0   \n",
       "\n",
       "     PhoneService     MultipleLines InternetService       OnlineSecurity  \\\n",
       "975            No  No phone service             DSL                  Yes   \n",
       "1775          Yes                No              No  No internet service   \n",
       "1955          Yes               Yes             DSL                  Yes   \n",
       "2075          Yes                No              No  No internet service   \n",
       "2232          Yes                No              No  No internet service   \n",
       "2308          Yes               Yes              No  No internet service   \n",
       "2930          Yes               Yes             DSL                   No   \n",
       "3134          Yes               Yes              No  No internet service   \n",
       "3203           No  No phone service             DSL                  Yes   \n",
       "4169          Yes                No             DSL                  Yes   \n",
       "5599          Yes                No              No  No internet service   \n",
       "\n",
       "             OnlineBackup     DeviceProtection          TechSupport  \\\n",
       "975                   Yes                  Yes                  Yes   \n",
       "1775  No internet service  No internet service  No internet service   \n",
       "1955                  Yes                   No                  Yes   \n",
       "2075  No internet service  No internet service  No internet service   \n",
       "2232  No internet service  No internet service  No internet service   \n",
       "2308  No internet service  No internet service  No internet service   \n",
       "2930                  Yes                  Yes                  Yes   \n",
       "3134  No internet service  No internet service  No internet service   \n",
       "3203                   No                  Yes                  Yes   \n",
       "4169                  Yes                  Yes                   No   \n",
       "5599  No internet service  No internet service  No internet service   \n",
       "\n",
       "              StreamingTV      StreamingMovies  Contract PaperlessBilling  \\\n",
       "975                   Yes                   No  Two year               No   \n",
       "1775  No internet service  No internet service  Two year               No   \n",
       "1955                   No                   No  Two year              Yes   \n",
       "2075  No internet service  No internet service  One year              Yes   \n",
       "2232  No internet service  No internet service  Two year               No   \n",
       "2308  No internet service  No internet service  Two year               No   \n",
       "2930                  Yes                   No  Two year               No   \n",
       "3134  No internet service  No internet service  Two year               No   \n",
       "3203                  Yes                   No  Two year              Yes   \n",
       "4169                  Yes                  Yes  Two year               No   \n",
       "5599  No internet service  No internet service  Two year               No   \n",
       "\n",
       "                  PaymentMethod  Charges.Monthly Charges.Total  \n",
       "975     Credit card (automatic)            56.05                \n",
       "1775               Mailed check            20.00                \n",
       "1955  Bank transfer (automatic)            61.90                \n",
       "2075               Mailed check            19.70                \n",
       "2232               Mailed check            20.25                \n",
       "2308               Mailed check            25.35                \n",
       "2930               Mailed check            73.35                \n",
       "3134               Mailed check            25.75                \n",
       "3203  Bank transfer (automatic)            52.55                \n",
       "4169               Mailed check            80.85                \n",
       "5599               Mailed check            19.85                "
      ]
     },
     "execution_count": 724,
     "metadata": {},
     "output_type": "execute_result"
    }
   ],
   "source": [
    "filtro = dados['Charges.Total'] == ' '\n",
    "dados[filtro]"
   ]
  },
  {
   "cell_type": "code",
   "execution_count": 725,
   "id": "28a9c9cd",
   "metadata": {},
   "outputs": [],
   "source": [
    "dados['Charges.Total'].replace(' ', 0, inplace=True)"
   ]
  },
  {
   "cell_type": "code",
   "execution_count": 726,
   "id": "9dffcd37",
   "metadata": {},
   "outputs": [
    {
     "data": {
      "text/html": [
       "<div>\n",
       "<style scoped>\n",
       "    .dataframe tbody tr th:only-of-type {\n",
       "        vertical-align: middle;\n",
       "    }\n",
       "\n",
       "    .dataframe tbody tr th {\n",
       "        vertical-align: top;\n",
       "    }\n",
       "\n",
       "    .dataframe thead th {\n",
       "        text-align: right;\n",
       "    }\n",
       "</style>\n",
       "<table border=\"1\" class=\"dataframe\">\n",
       "  <thead>\n",
       "    <tr style=\"text-align: right;\">\n",
       "      <th></th>\n",
       "      <th>customerID</th>\n",
       "      <th>Churn</th>\n",
       "      <th>gender</th>\n",
       "      <th>SeniorCitizen</th>\n",
       "      <th>Partner</th>\n",
       "      <th>Dependents</th>\n",
       "      <th>tenure</th>\n",
       "      <th>PhoneService</th>\n",
       "      <th>MultipleLines</th>\n",
       "      <th>InternetService</th>\n",
       "      <th>OnlineSecurity</th>\n",
       "      <th>OnlineBackup</th>\n",
       "      <th>DeviceProtection</th>\n",
       "      <th>TechSupport</th>\n",
       "      <th>StreamingTV</th>\n",
       "      <th>StreamingMovies</th>\n",
       "      <th>Contract</th>\n",
       "      <th>PaperlessBilling</th>\n",
       "      <th>PaymentMethod</th>\n",
       "      <th>Charges.Monthly</th>\n",
       "      <th>Charges.Total</th>\n",
       "    </tr>\n",
       "  </thead>\n",
       "  <tbody>\n",
       "  </tbody>\n",
       "</table>\n",
       "</div>"
      ],
      "text/plain": [
       "Empty DataFrame\n",
       "Columns: [customerID, Churn, gender, SeniorCitizen, Partner, Dependents, tenure, PhoneService, MultipleLines, InternetService, OnlineSecurity, OnlineBackup, DeviceProtection, TechSupport, StreamingTV, StreamingMovies, Contract, PaperlessBilling, PaymentMethod, Charges.Monthly, Charges.Total]\n",
       "Index: []"
      ]
     },
     "execution_count": 726,
     "metadata": {},
     "output_type": "execute_result"
    }
   ],
   "source": [
    "#Fazendo o mesmo filtro para ver se foram modificada as ocorrências\n",
    "filtro = dados['Charges.Total'] == ' '\n",
    "dados[filtro]"
   ]
  },
  {
   "cell_type": "code",
   "execution_count": 727,
   "id": "6b7bea00",
   "metadata": {},
   "outputs": [],
   "source": [
    "# Agora que não foi encontrado nenhum valor faltante, podemos modificar o tipo da coluna\n",
    "dados['Charges.Total'] = dados['Charges.Total'].astype(float)"
   ]
  },
  {
   "cell_type": "markdown",
   "id": "ab52e432",
   "metadata": {},
   "source": [
    "### <font color=red> Conclusões\n",
    "---\n",
    "\n",
    "- Possui inconsistências devido ao tipo da coluna, que deveria ser float\n",
    "- Após tentar converter, dar erro dizendo `ValueError: could not convert string to float: ' ' `\n",
    "- Fazendo o filtro, foi possível encontrar\n",
    "- Foi escolhido substituir o valor por `0`, pois demonstra que não foi pago nenhum valor à empresa ainda"
   ]
  },
  {
   "cell_type": "code",
   "execution_count": 728,
   "id": "2ad6b3ae",
   "metadata": {},
   "outputs": [
    {
     "name": "stdout",
     "output_type": "stream",
     "text": [
      "<class 'pandas.core.frame.DataFrame'>\n",
      "Int64Index: 7043 entries, 0 to 7266\n",
      "Data columns (total 21 columns):\n",
      " #   Column            Non-Null Count  Dtype  \n",
      "---  ------            --------------  -----  \n",
      " 0   customerID        7043 non-null   object \n",
      " 1   Churn             7043 non-null   object \n",
      " 2   gender            7043 non-null   object \n",
      " 3   SeniorCitizen     7043 non-null   object \n",
      " 4   Partner           7043 non-null   object \n",
      " 5   Dependents        7043 non-null   object \n",
      " 6   tenure            7043 non-null   int64  \n",
      " 7   PhoneService      7043 non-null   object \n",
      " 8   MultipleLines     7043 non-null   object \n",
      " 9   InternetService   7043 non-null   object \n",
      " 10  OnlineSecurity    7043 non-null   object \n",
      " 11  OnlineBackup      7043 non-null   object \n",
      " 12  DeviceProtection  7043 non-null   object \n",
      " 13  TechSupport       7043 non-null   object \n",
      " 14  StreamingTV       7043 non-null   object \n",
      " 15  StreamingMovies   7043 non-null   object \n",
      " 16  Contract          7043 non-null   object \n",
      " 17  PaperlessBilling  7043 non-null   object \n",
      " 18  PaymentMethod     7043 non-null   object \n",
      " 19  Charges.Monthly   7043 non-null   float64\n",
      " 20  Charges.Total     7043 non-null   float64\n",
      "dtypes: float64(2), int64(1), object(18)\n",
      "memory usage: 1.2+ MB\n"
     ]
    }
   ],
   "source": [
    "dados.info()"
   ]
  },
  {
   "cell_type": "markdown",
   "id": "fd57141e",
   "metadata": {},
   "source": [
    "## <font color=blue> Traduzindo dataset\n",
    "---"
   ]
  },
  {
   "cell_type": "code",
   "execution_count": 729,
   "id": "c40472df",
   "metadata": {},
   "outputs": [
    {
     "data": {
      "text/html": [
       "<div>\n",
       "<style scoped>\n",
       "    .dataframe tbody tr th:only-of-type {\n",
       "        vertical-align: middle;\n",
       "    }\n",
       "\n",
       "    .dataframe tbody tr th {\n",
       "        vertical-align: top;\n",
       "    }\n",
       "\n",
       "    .dataframe thead th {\n",
       "        text-align: right;\n",
       "    }\n",
       "</style>\n",
       "<table border=\"1\" class=\"dataframe\">\n",
       "  <thead>\n",
       "    <tr style=\"text-align: right;\">\n",
       "      <th></th>\n",
       "      <th>customerID</th>\n",
       "      <th>Churn</th>\n",
       "      <th>gender</th>\n",
       "      <th>SeniorCitizen</th>\n",
       "      <th>Partner</th>\n",
       "      <th>Dependents</th>\n",
       "      <th>tenure</th>\n",
       "      <th>PhoneService</th>\n",
       "      <th>MultipleLines</th>\n",
       "      <th>InternetService</th>\n",
       "      <th>OnlineSecurity</th>\n",
       "      <th>OnlineBackup</th>\n",
       "      <th>DeviceProtection</th>\n",
       "      <th>TechSupport</th>\n",
       "      <th>StreamingTV</th>\n",
       "      <th>StreamingMovies</th>\n",
       "      <th>Contract</th>\n",
       "      <th>PaperlessBilling</th>\n",
       "      <th>PaymentMethod</th>\n",
       "      <th>Charges.Monthly</th>\n",
       "      <th>Charges.Total</th>\n",
       "    </tr>\n",
       "  </thead>\n",
       "  <tbody>\n",
       "    <tr>\n",
       "      <th>0</th>\n",
       "      <td>0002-ORFBO</td>\n",
       "      <td>No</td>\n",
       "      <td>Female</td>\n",
       "      <td>No</td>\n",
       "      <td>Yes</td>\n",
       "      <td>Yes</td>\n",
       "      <td>9</td>\n",
       "      <td>Yes</td>\n",
       "      <td>No</td>\n",
       "      <td>DSL</td>\n",
       "      <td>No</td>\n",
       "      <td>Yes</td>\n",
       "      <td>No</td>\n",
       "      <td>Yes</td>\n",
       "      <td>Yes</td>\n",
       "      <td>No</td>\n",
       "      <td>One year</td>\n",
       "      <td>Yes</td>\n",
       "      <td>Mailed check</td>\n",
       "      <td>65.6</td>\n",
       "      <td>593.30</td>\n",
       "    </tr>\n",
       "    <tr>\n",
       "      <th>1</th>\n",
       "      <td>0003-MKNFE</td>\n",
       "      <td>No</td>\n",
       "      <td>Male</td>\n",
       "      <td>No</td>\n",
       "      <td>No</td>\n",
       "      <td>No</td>\n",
       "      <td>9</td>\n",
       "      <td>Yes</td>\n",
       "      <td>Yes</td>\n",
       "      <td>DSL</td>\n",
       "      <td>No</td>\n",
       "      <td>No</td>\n",
       "      <td>No</td>\n",
       "      <td>No</td>\n",
       "      <td>No</td>\n",
       "      <td>Yes</td>\n",
       "      <td>Month-to-month</td>\n",
       "      <td>No</td>\n",
       "      <td>Mailed check</td>\n",
       "      <td>59.9</td>\n",
       "      <td>542.40</td>\n",
       "    </tr>\n",
       "    <tr>\n",
       "      <th>2</th>\n",
       "      <td>0004-TLHLJ</td>\n",
       "      <td>Yes</td>\n",
       "      <td>Male</td>\n",
       "      <td>No</td>\n",
       "      <td>No</td>\n",
       "      <td>No</td>\n",
       "      <td>4</td>\n",
       "      <td>Yes</td>\n",
       "      <td>No</td>\n",
       "      <td>Fiber optic</td>\n",
       "      <td>No</td>\n",
       "      <td>No</td>\n",
       "      <td>Yes</td>\n",
       "      <td>No</td>\n",
       "      <td>No</td>\n",
       "      <td>No</td>\n",
       "      <td>Month-to-month</td>\n",
       "      <td>Yes</td>\n",
       "      <td>Electronic check</td>\n",
       "      <td>73.9</td>\n",
       "      <td>280.85</td>\n",
       "    </tr>\n",
       "    <tr>\n",
       "      <th>3</th>\n",
       "      <td>0011-IGKFF</td>\n",
       "      <td>Yes</td>\n",
       "      <td>Male</td>\n",
       "      <td>Yes</td>\n",
       "      <td>Yes</td>\n",
       "      <td>No</td>\n",
       "      <td>13</td>\n",
       "      <td>Yes</td>\n",
       "      <td>No</td>\n",
       "      <td>Fiber optic</td>\n",
       "      <td>No</td>\n",
       "      <td>Yes</td>\n",
       "      <td>Yes</td>\n",
       "      <td>No</td>\n",
       "      <td>Yes</td>\n",
       "      <td>Yes</td>\n",
       "      <td>Month-to-month</td>\n",
       "      <td>Yes</td>\n",
       "      <td>Electronic check</td>\n",
       "      <td>98.0</td>\n",
       "      <td>1237.85</td>\n",
       "    </tr>\n",
       "    <tr>\n",
       "      <th>4</th>\n",
       "      <td>0013-EXCHZ</td>\n",
       "      <td>Yes</td>\n",
       "      <td>Female</td>\n",
       "      <td>Yes</td>\n",
       "      <td>Yes</td>\n",
       "      <td>No</td>\n",
       "      <td>3</td>\n",
       "      <td>Yes</td>\n",
       "      <td>No</td>\n",
       "      <td>Fiber optic</td>\n",
       "      <td>No</td>\n",
       "      <td>No</td>\n",
       "      <td>No</td>\n",
       "      <td>Yes</td>\n",
       "      <td>Yes</td>\n",
       "      <td>No</td>\n",
       "      <td>Month-to-month</td>\n",
       "      <td>Yes</td>\n",
       "      <td>Mailed check</td>\n",
       "      <td>83.9</td>\n",
       "      <td>267.40</td>\n",
       "    </tr>\n",
       "  </tbody>\n",
       "</table>\n",
       "</div>"
      ],
      "text/plain": [
       "   customerID Churn  gender SeniorCitizen Partner Dependents  tenure  \\\n",
       "0  0002-ORFBO    No  Female            No     Yes        Yes       9   \n",
       "1  0003-MKNFE    No    Male            No      No         No       9   \n",
       "2  0004-TLHLJ   Yes    Male            No      No         No       4   \n",
       "3  0011-IGKFF   Yes    Male           Yes     Yes         No      13   \n",
       "4  0013-EXCHZ   Yes  Female           Yes     Yes         No       3   \n",
       "\n",
       "  PhoneService MultipleLines InternetService OnlineSecurity OnlineBackup  \\\n",
       "0          Yes            No             DSL             No          Yes   \n",
       "1          Yes           Yes             DSL             No           No   \n",
       "2          Yes            No     Fiber optic             No           No   \n",
       "3          Yes            No     Fiber optic             No          Yes   \n",
       "4          Yes            No     Fiber optic             No           No   \n",
       "\n",
       "  DeviceProtection TechSupport StreamingTV StreamingMovies        Contract  \\\n",
       "0               No         Yes         Yes              No        One year   \n",
       "1               No          No          No             Yes  Month-to-month   \n",
       "2              Yes          No          No              No  Month-to-month   \n",
       "3              Yes          No         Yes             Yes  Month-to-month   \n",
       "4               No         Yes         Yes              No  Month-to-month   \n",
       "\n",
       "  PaperlessBilling     PaymentMethod  Charges.Monthly  Charges.Total  \n",
       "0              Yes      Mailed check             65.6         593.30  \n",
       "1               No      Mailed check             59.9         542.40  \n",
       "2              Yes  Electronic check             73.9         280.85  \n",
       "3              Yes  Electronic check             98.0        1237.85  \n",
       "4              Yes      Mailed check             83.9         267.40  "
      ]
     },
     "execution_count": 729,
     "metadata": {},
     "output_type": "execute_result"
    }
   ],
   "source": [
    "dados.head(5)"
   ]
  },
  {
   "cell_type": "code",
   "execution_count": 730,
   "id": "8fc601f1",
   "metadata": {},
   "outputs": [],
   "source": [
    "nome_colunas = {\n",
    "    'customerID' : 'ID Cliente',\n",
    "    'Churn' : 'Churn',\n",
    "    'gender' : 'Genero',\n",
    "    'SeniorCitizen' : 'Cidadao Idoso',\n",
    "    'Partner' : ' Possui Parceiro(a)',\n",
    "    'Dependents' : 'Dependentes',\n",
    "    'tenure': 'Tempo Permanencia',\n",
    "    'PhoneService' : 'Servico Telefone',\n",
    "    'MultipleLines' : 'Multiplas linhas',\n",
    "    'InternetService' : 'Servico Internet',\n",
    "    'OnlineSecurity' : 'Seguranca Online',\n",
    "    'OnlineBackup' : 'Backup Online',\n",
    "    'DeviceProtection' : 'Protecao Dispositivo',\n",
    "    'TechSupport' : 'Suporte Tecnico',\n",
    "    'StreamingTV' : 'Streaming TV',\n",
    "    'StreamingMovies': 'Streaming Filmes',\n",
    "    'Contract' : 'Contrato',\n",
    "    'PaperlessBilling' : 'Fatura Online',\n",
    "    'PaymentMethod' : 'Metodo Pagamento',\n",
    "    'Charges.Monthly' : 'Gasto Mensal',\n",
    "    'Charges.Total' : 'Gasto Total'\n",
    "}"
   ]
  },
  {
   "cell_type": "code",
   "execution_count": 731,
   "id": "69db3002",
   "metadata": {},
   "outputs": [],
   "source": [
    "dados.rename(columns=nome_colunas, inplace=True)"
   ]
  },
  {
   "cell_type": "code",
   "execution_count": 732,
   "id": "4c218b57",
   "metadata": {},
   "outputs": [
    {
     "name": "stdout",
     "output_type": "stream",
     "text": [
      "['0002-ORFBO' '0003-MKNFE' '0004-TLHLJ' ... '9992-UJOEL' '9993-LHIEB'\n",
      " '9995-HOTOH']\n",
      "['No' 'Yes']\n",
      "['Female' 'Male']\n",
      "['No' 'Yes']\n",
      "['Yes' 'No']\n",
      "['Yes' 'No']\n",
      "[ 9  4 13  3 71 63  7 65 54 72  5 56 34  1 45 50 23 55 26 69 37 49 66 67\n",
      " 20 43 59 12 27  2 25 29 14 35 64 39 40 11  6 30 70 57 58 16 32 33 10 21\n",
      " 61 15 44 22 24 19 47 62 46 52  8 60 48 28 41 53 68 31 36 17 18 51 38 42\n",
      "  0]\n",
      "['Yes' 'No']\n",
      "['No' 'Yes' 'No phone service']\n",
      "['DSL' 'Fiber optic' 'No']\n",
      "['No' 'Yes' 'No internet service']\n",
      "['Yes' 'No' 'No internet service']\n",
      "['No' 'Yes' 'No internet service']\n",
      "['Yes' 'No' 'No internet service']\n",
      "['Yes' 'No' 'No internet service']\n",
      "['No' 'Yes' 'No internet service']\n",
      "['One year' 'Month-to-month' 'Two year']\n",
      "['Yes' 'No']\n",
      "['Mailed check' 'Electronic check' 'Credit card (automatic)'\n",
      " 'Bank transfer (automatic)']\n",
      "[65.6  59.9  73.9  ... 91.75 68.8  67.85]\n",
      "[ 593.3   542.4   280.85 ...  742.9  4627.65 3707.6 ]\n"
     ]
    }
   ],
   "source": [
    "for coluna in dados.columns:\n",
    "    print(dados[coluna].unique())"
   ]
  },
  {
   "cell_type": "code",
   "execution_count": 733,
   "id": "9a2086f9",
   "metadata": {},
   "outputs": [],
   "source": [
    "traducoes = {\n",
    "    'Yes': 'Sim',\n",
    "    'No' : 'Nao',\n",
    "    'No phone service': 'Sem servico de telefone',\n",
    "    'No internet service' : 'Sem servico de internet',\n",
    "    'Fiber optic': 'Fibra otica',\n",
    "    'Male': 'Masculino', \n",
    "    'Female': 'Feminino',\n",
    "    'One year': 'Um ano',\n",
    "    'Month-to-month': 'Mensal', \n",
    "    'Two year': 'Dois anos',\n",
    "    'Mailed check': 'Cheque', \n",
    "    'Electronic check': 'Cheque Eletronico',\n",
    "    'Credit card (automatic)': 'Cartao de credito (automatico)', \n",
    "    'Bank transfer (automatic)': 'Transferencia bancaria' \n",
    "}"
   ]
  },
  {
   "cell_type": "code",
   "execution_count": 734,
   "id": "bcae3077",
   "metadata": {},
   "outputs": [],
   "source": [
    "dados.replace(traducoes, inplace=True)"
   ]
  },
  {
   "cell_type": "code",
   "execution_count": 735,
   "id": "6f1ce14c",
   "metadata": {},
   "outputs": [
    {
     "data": {
      "text/html": [
       "<div>\n",
       "<style scoped>\n",
       "    .dataframe tbody tr th:only-of-type {\n",
       "        vertical-align: middle;\n",
       "    }\n",
       "\n",
       "    .dataframe tbody tr th {\n",
       "        vertical-align: top;\n",
       "    }\n",
       "\n",
       "    .dataframe thead th {\n",
       "        text-align: right;\n",
       "    }\n",
       "</style>\n",
       "<table border=\"1\" class=\"dataframe\">\n",
       "  <thead>\n",
       "    <tr style=\"text-align: right;\">\n",
       "      <th></th>\n",
       "      <th>ID Cliente</th>\n",
       "      <th>Churn</th>\n",
       "      <th>Genero</th>\n",
       "      <th>Cidadao Idoso</th>\n",
       "      <th>Possui Parceiro(a)</th>\n",
       "      <th>Dependentes</th>\n",
       "      <th>Tempo Permanencia</th>\n",
       "      <th>Servico Telefone</th>\n",
       "      <th>Multiplas linhas</th>\n",
       "      <th>Servico Internet</th>\n",
       "      <th>Seguranca Online</th>\n",
       "      <th>Backup Online</th>\n",
       "      <th>Protecao Dispositivo</th>\n",
       "      <th>Suporte Tecnico</th>\n",
       "      <th>Streaming TV</th>\n",
       "      <th>Streaming Filmes</th>\n",
       "      <th>Contrato</th>\n",
       "      <th>Fatura Online</th>\n",
       "      <th>Metodo Pagamento</th>\n",
       "      <th>Gasto Mensal</th>\n",
       "      <th>Gasto Total</th>\n",
       "    </tr>\n",
       "  </thead>\n",
       "  <tbody>\n",
       "    <tr>\n",
       "      <th>0</th>\n",
       "      <td>0002-ORFBO</td>\n",
       "      <td>Nao</td>\n",
       "      <td>Feminino</td>\n",
       "      <td>Nao</td>\n",
       "      <td>Sim</td>\n",
       "      <td>Sim</td>\n",
       "      <td>9</td>\n",
       "      <td>Sim</td>\n",
       "      <td>Nao</td>\n",
       "      <td>DSL</td>\n",
       "      <td>Nao</td>\n",
       "      <td>Sim</td>\n",
       "      <td>Nao</td>\n",
       "      <td>Sim</td>\n",
       "      <td>Sim</td>\n",
       "      <td>Nao</td>\n",
       "      <td>Um ano</td>\n",
       "      <td>Sim</td>\n",
       "      <td>Cheque</td>\n",
       "      <td>65.6</td>\n",
       "      <td>593.30</td>\n",
       "    </tr>\n",
       "    <tr>\n",
       "      <th>1</th>\n",
       "      <td>0003-MKNFE</td>\n",
       "      <td>Nao</td>\n",
       "      <td>Masculino</td>\n",
       "      <td>Nao</td>\n",
       "      <td>Nao</td>\n",
       "      <td>Nao</td>\n",
       "      <td>9</td>\n",
       "      <td>Sim</td>\n",
       "      <td>Sim</td>\n",
       "      <td>DSL</td>\n",
       "      <td>Nao</td>\n",
       "      <td>Nao</td>\n",
       "      <td>Nao</td>\n",
       "      <td>Nao</td>\n",
       "      <td>Nao</td>\n",
       "      <td>Sim</td>\n",
       "      <td>Mensal</td>\n",
       "      <td>Nao</td>\n",
       "      <td>Cheque</td>\n",
       "      <td>59.9</td>\n",
       "      <td>542.40</td>\n",
       "    </tr>\n",
       "    <tr>\n",
       "      <th>2</th>\n",
       "      <td>0004-TLHLJ</td>\n",
       "      <td>Sim</td>\n",
       "      <td>Masculino</td>\n",
       "      <td>Nao</td>\n",
       "      <td>Nao</td>\n",
       "      <td>Nao</td>\n",
       "      <td>4</td>\n",
       "      <td>Sim</td>\n",
       "      <td>Nao</td>\n",
       "      <td>Fibra otica</td>\n",
       "      <td>Nao</td>\n",
       "      <td>Nao</td>\n",
       "      <td>Sim</td>\n",
       "      <td>Nao</td>\n",
       "      <td>Nao</td>\n",
       "      <td>Nao</td>\n",
       "      <td>Mensal</td>\n",
       "      <td>Sim</td>\n",
       "      <td>Cheque Eletronico</td>\n",
       "      <td>73.9</td>\n",
       "      <td>280.85</td>\n",
       "    </tr>\n",
       "    <tr>\n",
       "      <th>3</th>\n",
       "      <td>0011-IGKFF</td>\n",
       "      <td>Sim</td>\n",
       "      <td>Masculino</td>\n",
       "      <td>Sim</td>\n",
       "      <td>Sim</td>\n",
       "      <td>Nao</td>\n",
       "      <td>13</td>\n",
       "      <td>Sim</td>\n",
       "      <td>Nao</td>\n",
       "      <td>Fibra otica</td>\n",
       "      <td>Nao</td>\n",
       "      <td>Sim</td>\n",
       "      <td>Sim</td>\n",
       "      <td>Nao</td>\n",
       "      <td>Sim</td>\n",
       "      <td>Sim</td>\n",
       "      <td>Mensal</td>\n",
       "      <td>Sim</td>\n",
       "      <td>Cheque Eletronico</td>\n",
       "      <td>98.0</td>\n",
       "      <td>1237.85</td>\n",
       "    </tr>\n",
       "    <tr>\n",
       "      <th>4</th>\n",
       "      <td>0013-EXCHZ</td>\n",
       "      <td>Sim</td>\n",
       "      <td>Feminino</td>\n",
       "      <td>Sim</td>\n",
       "      <td>Sim</td>\n",
       "      <td>Nao</td>\n",
       "      <td>3</td>\n",
       "      <td>Sim</td>\n",
       "      <td>Nao</td>\n",
       "      <td>Fibra otica</td>\n",
       "      <td>Nao</td>\n",
       "      <td>Nao</td>\n",
       "      <td>Nao</td>\n",
       "      <td>Sim</td>\n",
       "      <td>Sim</td>\n",
       "      <td>Nao</td>\n",
       "      <td>Mensal</td>\n",
       "      <td>Sim</td>\n",
       "      <td>Cheque</td>\n",
       "      <td>83.9</td>\n",
       "      <td>267.40</td>\n",
       "    </tr>\n",
       "  </tbody>\n",
       "</table>\n",
       "</div>"
      ],
      "text/plain": [
       "   ID Cliente Churn     Genero Cidadao Idoso  Possui Parceiro(a) Dependentes  \\\n",
       "0  0002-ORFBO   Nao   Feminino           Nao                 Sim         Sim   \n",
       "1  0003-MKNFE   Nao  Masculino           Nao                 Nao         Nao   \n",
       "2  0004-TLHLJ   Sim  Masculino           Nao                 Nao         Nao   \n",
       "3  0011-IGKFF   Sim  Masculino           Sim                 Sim         Nao   \n",
       "4  0013-EXCHZ   Sim   Feminino           Sim                 Sim         Nao   \n",
       "\n",
       "   Tempo Permanencia Servico Telefone Multiplas linhas Servico Internet  \\\n",
       "0                  9              Sim              Nao              DSL   \n",
       "1                  9              Sim              Sim              DSL   \n",
       "2                  4              Sim              Nao      Fibra otica   \n",
       "3                 13              Sim              Nao      Fibra otica   \n",
       "4                  3              Sim              Nao      Fibra otica   \n",
       "\n",
       "  Seguranca Online Backup Online Protecao Dispositivo Suporte Tecnico  \\\n",
       "0              Nao           Sim                  Nao             Sim   \n",
       "1              Nao           Nao                  Nao             Nao   \n",
       "2              Nao           Nao                  Sim             Nao   \n",
       "3              Nao           Sim                  Sim             Nao   \n",
       "4              Nao           Nao                  Nao             Sim   \n",
       "\n",
       "  Streaming TV Streaming Filmes Contrato Fatura Online   Metodo Pagamento  \\\n",
       "0          Sim              Nao   Um ano           Sim             Cheque   \n",
       "1          Nao              Sim   Mensal           Nao             Cheque   \n",
       "2          Nao              Nao   Mensal           Sim  Cheque Eletronico   \n",
       "3          Sim              Sim   Mensal           Sim  Cheque Eletronico   \n",
       "4          Sim              Nao   Mensal           Sim             Cheque   \n",
       "\n",
       "   Gasto Mensal  Gasto Total  \n",
       "0          65.6       593.30  \n",
       "1          59.9       542.40  \n",
       "2          73.9       280.85  \n",
       "3          98.0      1237.85  \n",
       "4          83.9       267.40  "
      ]
     },
     "execution_count": 735,
     "metadata": {},
     "output_type": "execute_result"
    }
   ],
   "source": [
    "dados.head()"
   ]
  },
  {
   "cell_type": "markdown",
   "id": "f54a4d99",
   "metadata": {},
   "source": [
    "## <font color=blue> Criando coluna de Gasto Diário\n",
    "---"
   ]
  },
  {
   "cell_type": "code",
   "execution_count": 736,
   "id": "51b2a821",
   "metadata": {},
   "outputs": [],
   "source": [
    "dados_gasto_diario = (dados['Gasto Mensal'] / 30).round(2)\n",
    "dados.insert(19, 'Gasto Diario', value=dados_gasto_diario)"
   ]
  },
  {
   "cell_type": "code",
   "execution_count": 737,
   "id": "5f549c00",
   "metadata": {},
   "outputs": [
    {
     "data": {
      "text/html": [
       "<div>\n",
       "<style scoped>\n",
       "    .dataframe tbody tr th:only-of-type {\n",
       "        vertical-align: middle;\n",
       "    }\n",
       "\n",
       "    .dataframe tbody tr th {\n",
       "        vertical-align: top;\n",
       "    }\n",
       "\n",
       "    .dataframe thead th {\n",
       "        text-align: right;\n",
       "    }\n",
       "</style>\n",
       "<table border=\"1\" class=\"dataframe\">\n",
       "  <thead>\n",
       "    <tr style=\"text-align: right;\">\n",
       "      <th></th>\n",
       "      <th>ID Cliente</th>\n",
       "      <th>Churn</th>\n",
       "      <th>Genero</th>\n",
       "      <th>Cidadao Idoso</th>\n",
       "      <th>Possui Parceiro(a)</th>\n",
       "      <th>Dependentes</th>\n",
       "      <th>Tempo Permanencia</th>\n",
       "      <th>Servico Telefone</th>\n",
       "      <th>Multiplas linhas</th>\n",
       "      <th>Servico Internet</th>\n",
       "      <th>Seguranca Online</th>\n",
       "      <th>Backup Online</th>\n",
       "      <th>Protecao Dispositivo</th>\n",
       "      <th>Suporte Tecnico</th>\n",
       "      <th>Streaming TV</th>\n",
       "      <th>Streaming Filmes</th>\n",
       "      <th>Contrato</th>\n",
       "      <th>Fatura Online</th>\n",
       "      <th>Metodo Pagamento</th>\n",
       "      <th>Gasto Diario</th>\n",
       "      <th>Gasto Mensal</th>\n",
       "      <th>Gasto Total</th>\n",
       "    </tr>\n",
       "  </thead>\n",
       "  <tbody>\n",
       "    <tr>\n",
       "      <th>0</th>\n",
       "      <td>0002-ORFBO</td>\n",
       "      <td>Nao</td>\n",
       "      <td>Feminino</td>\n",
       "      <td>Nao</td>\n",
       "      <td>Sim</td>\n",
       "      <td>Sim</td>\n",
       "      <td>9</td>\n",
       "      <td>Sim</td>\n",
       "      <td>Nao</td>\n",
       "      <td>DSL</td>\n",
       "      <td>Nao</td>\n",
       "      <td>Sim</td>\n",
       "      <td>Nao</td>\n",
       "      <td>Sim</td>\n",
       "      <td>Sim</td>\n",
       "      <td>Nao</td>\n",
       "      <td>Um ano</td>\n",
       "      <td>Sim</td>\n",
       "      <td>Cheque</td>\n",
       "      <td>2.19</td>\n",
       "      <td>65.6</td>\n",
       "      <td>593.30</td>\n",
       "    </tr>\n",
       "    <tr>\n",
       "      <th>1</th>\n",
       "      <td>0003-MKNFE</td>\n",
       "      <td>Nao</td>\n",
       "      <td>Masculino</td>\n",
       "      <td>Nao</td>\n",
       "      <td>Nao</td>\n",
       "      <td>Nao</td>\n",
       "      <td>9</td>\n",
       "      <td>Sim</td>\n",
       "      <td>Sim</td>\n",
       "      <td>DSL</td>\n",
       "      <td>Nao</td>\n",
       "      <td>Nao</td>\n",
       "      <td>Nao</td>\n",
       "      <td>Nao</td>\n",
       "      <td>Nao</td>\n",
       "      <td>Sim</td>\n",
       "      <td>Mensal</td>\n",
       "      <td>Nao</td>\n",
       "      <td>Cheque</td>\n",
       "      <td>2.00</td>\n",
       "      <td>59.9</td>\n",
       "      <td>542.40</td>\n",
       "    </tr>\n",
       "    <tr>\n",
       "      <th>2</th>\n",
       "      <td>0004-TLHLJ</td>\n",
       "      <td>Sim</td>\n",
       "      <td>Masculino</td>\n",
       "      <td>Nao</td>\n",
       "      <td>Nao</td>\n",
       "      <td>Nao</td>\n",
       "      <td>4</td>\n",
       "      <td>Sim</td>\n",
       "      <td>Nao</td>\n",
       "      <td>Fibra otica</td>\n",
       "      <td>Nao</td>\n",
       "      <td>Nao</td>\n",
       "      <td>Sim</td>\n",
       "      <td>Nao</td>\n",
       "      <td>Nao</td>\n",
       "      <td>Nao</td>\n",
       "      <td>Mensal</td>\n",
       "      <td>Sim</td>\n",
       "      <td>Cheque Eletronico</td>\n",
       "      <td>2.46</td>\n",
       "      <td>73.9</td>\n",
       "      <td>280.85</td>\n",
       "    </tr>\n",
       "    <tr>\n",
       "      <th>3</th>\n",
       "      <td>0011-IGKFF</td>\n",
       "      <td>Sim</td>\n",
       "      <td>Masculino</td>\n",
       "      <td>Sim</td>\n",
       "      <td>Sim</td>\n",
       "      <td>Nao</td>\n",
       "      <td>13</td>\n",
       "      <td>Sim</td>\n",
       "      <td>Nao</td>\n",
       "      <td>Fibra otica</td>\n",
       "      <td>Nao</td>\n",
       "      <td>Sim</td>\n",
       "      <td>Sim</td>\n",
       "      <td>Nao</td>\n",
       "      <td>Sim</td>\n",
       "      <td>Sim</td>\n",
       "      <td>Mensal</td>\n",
       "      <td>Sim</td>\n",
       "      <td>Cheque Eletronico</td>\n",
       "      <td>3.27</td>\n",
       "      <td>98.0</td>\n",
       "      <td>1237.85</td>\n",
       "    </tr>\n",
       "    <tr>\n",
       "      <th>4</th>\n",
       "      <td>0013-EXCHZ</td>\n",
       "      <td>Sim</td>\n",
       "      <td>Feminino</td>\n",
       "      <td>Sim</td>\n",
       "      <td>Sim</td>\n",
       "      <td>Nao</td>\n",
       "      <td>3</td>\n",
       "      <td>Sim</td>\n",
       "      <td>Nao</td>\n",
       "      <td>Fibra otica</td>\n",
       "      <td>Nao</td>\n",
       "      <td>Nao</td>\n",
       "      <td>Nao</td>\n",
       "      <td>Sim</td>\n",
       "      <td>Sim</td>\n",
       "      <td>Nao</td>\n",
       "      <td>Mensal</td>\n",
       "      <td>Sim</td>\n",
       "      <td>Cheque</td>\n",
       "      <td>2.80</td>\n",
       "      <td>83.9</td>\n",
       "      <td>267.40</td>\n",
       "    </tr>\n",
       "  </tbody>\n",
       "</table>\n",
       "</div>"
      ],
      "text/plain": [
       "   ID Cliente Churn     Genero Cidadao Idoso  Possui Parceiro(a) Dependentes  \\\n",
       "0  0002-ORFBO   Nao   Feminino           Nao                 Sim         Sim   \n",
       "1  0003-MKNFE   Nao  Masculino           Nao                 Nao         Nao   \n",
       "2  0004-TLHLJ   Sim  Masculino           Nao                 Nao         Nao   \n",
       "3  0011-IGKFF   Sim  Masculino           Sim                 Sim         Nao   \n",
       "4  0013-EXCHZ   Sim   Feminino           Sim                 Sim         Nao   \n",
       "\n",
       "   Tempo Permanencia Servico Telefone Multiplas linhas Servico Internet  \\\n",
       "0                  9              Sim              Nao              DSL   \n",
       "1                  9              Sim              Sim              DSL   \n",
       "2                  4              Sim              Nao      Fibra otica   \n",
       "3                 13              Sim              Nao      Fibra otica   \n",
       "4                  3              Sim              Nao      Fibra otica   \n",
       "\n",
       "  Seguranca Online Backup Online Protecao Dispositivo Suporte Tecnico  \\\n",
       "0              Nao           Sim                  Nao             Sim   \n",
       "1              Nao           Nao                  Nao             Nao   \n",
       "2              Nao           Nao                  Sim             Nao   \n",
       "3              Nao           Sim                  Sim             Nao   \n",
       "4              Nao           Nao                  Nao             Sim   \n",
       "\n",
       "  Streaming TV Streaming Filmes Contrato Fatura Online   Metodo Pagamento  \\\n",
       "0          Sim              Nao   Um ano           Sim             Cheque   \n",
       "1          Nao              Sim   Mensal           Nao             Cheque   \n",
       "2          Nao              Nao   Mensal           Sim  Cheque Eletronico   \n",
       "3          Sim              Sim   Mensal           Sim  Cheque Eletronico   \n",
       "4          Sim              Nao   Mensal           Sim             Cheque   \n",
       "\n",
       "   Gasto Diario  Gasto Mensal  Gasto Total  \n",
       "0          2.19          65.6       593.30  \n",
       "1          2.00          59.9       542.40  \n",
       "2          2.46          73.9       280.85  \n",
       "3          3.27          98.0      1237.85  \n",
       "4          2.80          83.9       267.40  "
      ]
     },
     "execution_count": 737,
     "metadata": {},
     "output_type": "execute_result"
    }
   ],
   "source": [
    "dados.head()"
   ]
  },
  {
   "cell_type": "code",
   "execution_count": 740,
   "id": "fff2efc3",
   "metadata": {},
   "outputs": [],
   "source": [
    "dados.to_csv('data/database_tratata.csv', sep=';', index=False)"
   ]
  },
  {
   "cell_type": "code",
   "execution_count": null,
   "id": "9e9cad79",
   "metadata": {},
   "outputs": [],
   "source": []
  }
 ],
 "metadata": {
  "kernelspec": {
   "display_name": "Python 3 (ipykernel)",
   "language": "python",
   "name": "python3"
  },
  "language_info": {
   "codemirror_mode": {
    "name": "ipython",
    "version": 3
   },
   "file_extension": ".py",
   "mimetype": "text/x-python",
   "name": "python",
   "nbconvert_exporter": "python",
   "pygments_lexer": "ipython3",
   "version": "3.9.6"
  }
 },
 "nbformat": 4,
 "nbformat_minor": 5
}
